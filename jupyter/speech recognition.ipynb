{
 "cells": [
  {
   "cell_type": "code",
   "execution_count": 2,
   "metadata": {},
   "outputs": [
    {
     "name": "stdout",
     "output_type": "stream",
     "text": [
      "starting recording\n",
      "<speech_recognition.AudioData object at 0x00000208251BA358>\n",
      "Toto\n"
     ]
    }
   ],
   "source": [
    "import speech_recognition as sr\n",
    "r = sr.Recognizer()\n",
    "mic = sr.Microphone()\n",
    "# mic = sr.Microphone(device_index=13)\n",
    "# mic.list_microphone_names()\n",
    "with mic as source:\n",
    "    print(\"starting recording\")\n",
    "    r.adjust_for_ambient_noise(source)\n",
    "    audio = r.listen(source, phrase_time_limit=3)\n",
    "    print(audio)    \n",
    "    s = r.recognize_google(audio, language=\"fr-FR\")\n",
    "    print(s)\n"
   ]
  },
  {
   "cell_type": "code",
   "execution_count": 14,
   "metadata": {},
   "outputs": [
    {
     "data": {
      "text/plain": [
       "[{'index': 2,\n",
       "  'structVersion': 2,\n",
       "  'name': 'Analogue 1 + 2 (Focusrite Usb A',\n",
       "  'hostApi': 0,\n",
       "  'maxInputChannels': 8,\n",
       "  'maxOutputChannels': 0,\n",
       "  'defaultLowInputLatency': 0.09,\n",
       "  'defaultLowOutputLatency': 0.09,\n",
       "  'defaultHighInputLatency': 0.18,\n",
       "  'defaultHighOutputLatency': 0.18,\n",
       "  'defaultSampleRate': 44100.0},\n",
       " {'index': 4,\n",
       "  'structVersion': 2,\n",
       "  'name': 'Haut-parleurs (Focusrite Usb Au',\n",
       "  'hostApi': 0,\n",
       "  'maxInputChannels': 0,\n",
       "  'maxOutputChannels': 8,\n",
       "  'defaultLowInputLatency': 0.09,\n",
       "  'defaultLowOutputLatency': 0.09,\n",
       "  'defaultHighInputLatency': 0.18,\n",
       "  'defaultHighOutputLatency': 0.18,\n",
       "  'defaultSampleRate': 44100.0},\n",
       " {'index': 8,\n",
       "  'structVersion': 2,\n",
       "  'name': 'Analogue 1 + 2 (Focusrite Usb Audio)',\n",
       "  'hostApi': 1,\n",
       "  'maxInputChannels': 8,\n",
       "  'maxOutputChannels': 0,\n",
       "  'defaultLowInputLatency': 0.12,\n",
       "  'defaultLowOutputLatency': 0.0,\n",
       "  'defaultHighInputLatency': 0.24,\n",
       "  'defaultHighOutputLatency': 0.0,\n",
       "  'defaultSampleRate': 44100.0},\n",
       " {'index': 10,\n",
       "  'structVersion': 2,\n",
       "  'name': 'Haut-parleurs (Focusrite Usb Audio)',\n",
       "  'hostApi': 1,\n",
       "  'maxInputChannels': 0,\n",
       "  'maxOutputChannels': 8,\n",
       "  'defaultLowInputLatency': 0.0,\n",
       "  'defaultLowOutputLatency': 0.12,\n",
       "  'defaultHighInputLatency': 0.0,\n",
       "  'defaultHighOutputLatency': 0.24,\n",
       "  'defaultSampleRate': 44100.0},\n",
       " {'index': 13,\n",
       "  'structVersion': 2,\n",
       "  'name': 'Focusrite USB ASIO',\n",
       "  'hostApi': 2,\n",
       "  'maxInputChannels': 18,\n",
       "  'maxOutputChannels': 8,\n",
       "  'defaultLowInputLatency': 0.011609977324263039,\n",
       "  'defaultLowOutputLatency': 0.011609977324263039,\n",
       "  'defaultHighInputLatency': 0.023219954648526078,\n",
       "  'defaultHighOutputLatency': 0.023219954648526078,\n",
       "  'defaultSampleRate': 44100.0},\n",
       " {'index': 16,\n",
       "  'structVersion': 2,\n",
       "  'name': 'Haut-parleurs (Focusrite Usb Audio)',\n",
       "  'hostApi': 3,\n",
       "  'maxInputChannels': 0,\n",
       "  'maxOutputChannels': 2,\n",
       "  'defaultLowInputLatency': 0.0,\n",
       "  'defaultLowOutputLatency': 0.003,\n",
       "  'defaultHighInputLatency': 0.0,\n",
       "  'defaultHighOutputLatency': 0.01,\n",
       "  'defaultSampleRate': 44100.0},\n",
       " {'index': 18,\n",
       "  'structVersion': 2,\n",
       "  'name': 'Analogue 1 + 2 (Focusrite Usb Audio)',\n",
       "  'hostApi': 3,\n",
       "  'maxInputChannels': 2,\n",
       "  'maxOutputChannels': 0,\n",
       "  'defaultLowInputLatency': 0.003,\n",
       "  'defaultLowOutputLatency': 0.0,\n",
       "  'defaultHighInputLatency': 0.01,\n",
       "  'defaultHighOutputLatency': 0.0,\n",
       "  'defaultSampleRate': 44100.0}]"
      ]
     },
     "execution_count": 14,
     "metadata": {},
     "output_type": "execute_result"
    }
   ],
   "source": [
    "import speech_recognition as sr\n",
    "from pprint import pprint\n",
    "# r = sr.Recognizer()\n",
    "# mic = sr.Microphone()\n",
    "# pprint(sr.Microphone.list_microphone_names())\n",
    "\n",
    "pyaudio_module = sr.Microphone.get_pyaudio()\n",
    "audio = pyaudio_module.PyAudio()\n",
    "device_info = audio.get_device_info_by_index(2)\n",
    "# device_info =audio.get_default_input_device_info()\n",
    "device_infos = [audio.get_device_info_by_index(i) for i, name in enumerate(sr.Microphone.list_microphone_names()) if 'Focusrite' in name]\n",
    "device_infos"
   ]
  }
 ],
 "metadata": {
  "kernelspec": {
   "display_name": "Python 3",
   "language": "python",
   "name": "python3"
  },
  "language_info": {
   "codemirror_mode": {
    "name": "ipython",
    "version": 3
   },
   "file_extension": ".py",
   "mimetype": "text/x-python",
   "name": "python",
   "nbconvert_exporter": "python",
   "pygments_lexer": "ipython3",
   "version": "3.7.3"
  }
 },
 "nbformat": 4,
 "nbformat_minor": 2
}
