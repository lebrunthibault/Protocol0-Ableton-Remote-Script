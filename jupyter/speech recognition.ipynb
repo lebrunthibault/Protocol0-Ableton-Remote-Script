{
 "cells": [
  {
   "cell_type": "code",
   "execution_count": 15,
   "metadata": {},
   "outputs": [
    {
     "name": "stdout",
     "output_type": "stream",
     "text": [
      "starting recording\n",
      "<speech_recognition.AudioData object at 0x000001661FDB1520>\n",
      "je m'appelle Thibault\n"
     ]
    }
   ],
   "source": [
    "import speech_recognition as sr\n",
    "r = sr.Recognizer()\n",
    "mic = sr.Microphone()\n",
    "with mic as source:\n",
    "    print(\"starting recording\")\n",
    "    r.adjust_for_ambient_noise(source)\n",
    "    audio = r.listen(source)\n",
    "    print(audio)    \n",
    "    s = r.recognize_google(audio, language=\"fr-FR\")\n",
    "    print(s)\n"
   ]
  }
 ],
 "metadata": {
  "kernelspec": {
   "display_name": "Python 3",
   "language": "python",
   "name": "python3"
  },
  "language_info": {
   "codemirror_mode": {
    "name": "ipython",
    "version": 3
   },
   "file_extension": ".py",
   "mimetype": "text/x-python",
   "name": "python",
   "nbconvert_exporter": "python",
   "pygments_lexer": "ipython3",
   "version": "3.7.3"
  }
 },
 "nbformat": 4,
 "nbformat_minor": 2
}
