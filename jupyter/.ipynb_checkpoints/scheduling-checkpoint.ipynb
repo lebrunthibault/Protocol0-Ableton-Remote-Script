{
 "cells": [
  {
   "cell_type": "code",
   "execution_count": null,
   "metadata": {},
   "outputs": [],
   "source": [
    "   # in protocol0 __init__\n",
    "    # self.start = time.time()\n",
    "        #\n",
    "        # def _tick():\n",
    "        #     self.log_info(\"_tick call in %.3f\" % (time.time() - self.start))\n",
    "        #     self.start = time.time()\n",
    "\n",
    "        # _scheduler = Live.Base.Timer(callback=_tick, interval=1, repeat=True)\n",
    "        # # _scheduler.start()\n",
    "        # self.log_debug(self._tasks)\n",
    "        # # self._tasks.add(\n",
    "        # #     sequence(wait(0.3), run(_scheduler.restart))).kill()\n",
    "        # for i in range(20):\n",
    "        #     self._tasks.add(\n",
    "        #         sequence(wait(i / 10), run(_tick)))\n",
    "        # self.log_debug(\"scheduler started\")"
   ]
  }
 ],
 "metadata": {
  "kernelspec": {
   "display_name": "Python 2",
   "language": "python",
   "name": "python2"
  },
  "language_info": {
   "codemirror_mode": {
    "name": "ipython",
    "version": 2
   },
   "file_extension": ".py",
   "mimetype": "text/x-python",
   "name": "python",
   "nbconvert_exporter": "python",
   "pygments_lexer": "ipython2",
   "version": "2.7.18"
  }
 },
 "nbformat": 4,
 "nbformat_minor": 2
}
