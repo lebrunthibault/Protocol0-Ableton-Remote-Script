{
 "cells": [
  {
   "cell_type": "code",
   "execution_count": 1,
   "metadata": {},
   "outputs": [],
   "source": [
    "from api.p0_script_api_client import APIMessageSender\n",
    "from p0_script_api import P0ScriptAPI\n",
    "\n",
    "# protocol0 = P0ScriptAPI(APIMessageSender())\n",
    "\n",
    "# protocol0.ping()\n",
    "# protocol0.set_live()"
   ]
  },
  {
   "cell_type": "code",
   "execution_count": 1,
   "metadata": {},
   "outputs": [
    {
     "name": "stdout",
     "output_type": "stream",
     "text": [
      "button clicked\n",
      "button clicked\n",
      "button clicked\n",
      "button clicked\n"
     ]
    }
   ],
   "source": [
    "from gui.gui import show_message, show_dialog\n",
    "\n",
    "def on_success():\n",
    "    print(\"clicked button\")\n",
    "\n",
    "show_dialog(\"Protected mode active\", \"Disable\")"
   ]
  }
 ],
 "metadata": {
  "kernelspec": {
   "display_name": "Python 3 (ipykernel)",
   "language": "python",
   "name": "python3"
  },
  "language_info": {
   "codemirror_mode": {
    "name": "ipython",
    "version": 3
   },
   "file_extension": ".py",
   "mimetype": "text/x-python",
   "name": "python",
   "nbconvert_exporter": "python",
   "pygments_lexer": "ipython3",
   "version": "3.7.3"
  }
 },
 "nbformat": 4,
 "nbformat_minor": 4
}
