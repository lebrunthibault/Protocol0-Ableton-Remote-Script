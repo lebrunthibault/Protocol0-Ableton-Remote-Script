{
 "cells": [
  {
   "cell_type": "code",
   "execution_count": 4,
   "metadata": {},
   "outputs": [
    {
     "ename": "SyntaxError",
     "evalue": "no binding for nonlocal 'reloaded_at' found (Temp/ipykernel_2184/1275135823.py, line 6)",
     "output_type": "error",
     "traceback": [
      "\u001b[1;36m  File \u001b[1;32m\"C:\\Users\\thiba\\AppData\\Local\\Temp/ipykernel_2184/1275135823.py\"\u001b[1;36m, line \u001b[1;32m6\u001b[0m\n\u001b[1;33m    nonlocal reloaded_at\u001b[0m\n\u001b[1;37m    ^\u001b[0m\n\u001b[1;31mSyntaxError\u001b[0m\u001b[1;31m:\u001b[0m no binding for nonlocal 'reloaded_at' found\n"
     ]
    }
   ],
   "source": [
    "import time\n",
    "reloaded_at = None\n",
    "\n",
    "def store():\n",
    "    nonlocal reloaded_at\n",
    "    reloaded_at = time.time()\n",
    "    \n",
    "def get():\n",
    "    return reloaded_at\n",
    "\n",
    "store()\n",
    "print(get())"
   ]
  }
 ],
 "metadata": {
  "kernelspec": {
   "display_name": "Python 3 (ipykernel)",
   "language": "python",
   "name": "python3"
  },
  "language_info": {
   "codemirror_mode": {
    "name": "ipython",
    "version": 3
   },
   "file_extension": ".py",
   "mimetype": "text/x-python",
   "name": "python",
   "nbconvert_exporter": "python",
   "pygments_lexer": "ipython3",
   "version": "3.7.3"
  }
 },
 "nbformat": 4,
 "nbformat_minor": 4
}
