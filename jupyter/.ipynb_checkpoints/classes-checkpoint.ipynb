{
 "cells": [
  {
   "cell_type": "code",
   "execution_count": 1,
   "metadata": {},
   "outputs": [
    {
     "name": "stdout",
     "output_type": "stream",
     "text": [
      "init parent 1\n",
      "init parnet 2\n",
      "end init parent 2\n",
      "end init parent 1\n",
      "child !\n"
     ]
    }
   ],
   "source": [
    "class Parent(object):\n",
    "    def __init__(self):\n",
    "        print(\"init parent 1\")\n",
    "        super(Parent, self).__init__()\n",
    "        self.obj = Obj()\n",
    "        print(\"end init parent 1\")\n",
    "\n",
    "    def print_name(self):\n",
    "        print(\"parent 1 !\")\n",
    "        \n",
    "    def hello(self):\n",
    "        raise NotImplementedError()\n",
    "        \n",
    "class Parent2(object):\n",
    "    def __init__(self):\n",
    "        print(\"init parnet 2\")\n",
    "        super(Parent2, self).__init__()\n",
    "        self.obj = Obj()\n",
    "        self.print_name = self.print_name\n",
    "        print(\"end init parent 2\")\n",
    "\n",
    "    def print_name(self):\n",
    "        print(\"parent 2 !\")\n",
    "        \n",
    "    def hello(self):\n",
    "        raise NotImplementedError()\n",
    "        \n",
    "    def print_locals(self, toto, titi=2):\n",
    "        k = locals()\n",
    "        del k[\"self\"]\n",
    "        print(k)\n",
    "\n",
    "class Child(Parent, Parent2):\n",
    "    def __init__(self):\n",
    "        super(Child, self).__init__()\n",
    "        self.a = 42\n",
    "    \n",
    "    def print_name(self, val):\n",
    "        print(\"child !, val: %s\" % val)\n",
    "        \n",
    "\n",
    "class Obj(object):\n",
    "    def __init__(self):\n",
    "        self.val = 42\n",
    "\n",
    "child = Child()\n",
    "child.print_name()\n"
   ]
  },
  {
   "cell_type": "code",
   "execution_count": 1,
   "metadata": {},
   "outputs": [
    {
     "data": {
      "text/plain": [
       "False"
      ]
     },
     "execution_count": 1,
     "metadata": {},
     "output_type": "execute_result"
    }
   ],
   "source": [
    "a = {\"toto\": 2}\n",
    "a.has_key(\"toto\")\n",
    "2 in a"
   ]
  },
  {
   "cell_type": "code",
   "execution_count": 5,
   "metadata": {},
   "outputs": [
    {
     "name": "stdout",
     "output_type": "stream",
     "text": [
      "New called with\n",
      "metaname <class '__main__.MyMeta'>\n",
      "classname Kls\n",
      "baseclasses (<type 'object'>,)\n",
      "attrs {'__module__': '__main__', '__metaclass__': <class '__main__.MyMeta'>, 'printd': <function printd at 0x057FAEF0>, '__init__': <function __init__ at 0x057FAD70>}\n",
      "init called with\n",
      "classobject <class '__main__.Kls'>\n",
      "classname Kls\n",
      "baseclasses (<type 'object'>,)\n",
      "attrs {'__module__': '__main__', 'getdata': <function getd3 at 0x057FAEB0>, '__metaclass__': <class '__main__.MyMeta'>, 'printd': <function printd at 0x057FAEF0>, '__init__': <function __init__ at 0x057FAD70>}\n",
      "arun\n",
      "arunarunarun\n"
     ]
    }
   ],
   "source": [
    "class a(object):\n",
    "    def __init__(self, data):\n",
    "        self.data = data\n",
    " \n",
    "    def getd3(self):\n",
    "        return self.data * 3\n",
    " \n",
    " \n",
    "class MyMeta(type):\n",
    "    def __new__(metaname, classname, baseclasses, attrs):\n",
    "        print 'New called with'\n",
    "        print 'metaname', metaname\n",
    "        print 'classname', classname\n",
    "        print 'baseclasses', baseclasses\n",
    "        print 'attrs', attrs\n",
    "        attrs['getdata'] = a.__dict__['getd3']\n",
    "        # attrs['getdata'] = a.getd3\n",
    "        return type.__new__(metaname, classname, baseclasses, attrs)\n",
    " \n",
    "    def __init__(classobject, classname, baseclasses, attrs):\n",
    "        print 'init called with'\n",
    "        print 'classobject', classobject\n",
    "        print 'classname', classname\n",
    "        print 'baseclasses', baseclasses\n",
    "        print 'attrs', attrs\n",
    " \n",
    " \n",
    "class Kls(object):\n",
    "    __metaclass__ = MyMeta\n",
    " \n",
    "    def __init__(self, data):\n",
    "        self.data = data\n",
    " \n",
    "    def printd(self):\n",
    "        print self.data\n",
    " \n",
    "ik = Kls('arun')\n",
    "ik.printd()\n",
    "print ik.getdata()"
   ]
  }
 ],
 "metadata": {
  "kernelspec": {
   "display_name": "Python 2",
   "language": "python",
   "name": "python2"
  },
  "language_info": {
   "codemirror_mode": {
    "name": "ipython",
    "version": 2
   },
   "file_extension": ".py",
   "mimetype": "text/x-python",
   "name": "python",
   "nbconvert_exporter": "python",
   "pygments_lexer": "ipython2",
   "version": "2.7.18"
  }
 },
 "nbformat": 4,
 "nbformat_minor": 2
}
