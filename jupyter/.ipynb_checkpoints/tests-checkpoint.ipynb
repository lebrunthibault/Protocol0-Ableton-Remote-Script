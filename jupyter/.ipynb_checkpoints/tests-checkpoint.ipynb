{
 "cells": [
  {
   "cell_type": "code",
   "execution_count": 1,
   "metadata": {},
   "outputs": [
    {
     "ename": "ImportError",
     "evalue": "No module named a_protocol_0",
     "output_type": "error",
     "traceback": [
      "\u001b[1;31m---------------------------------------------------------------------------\u001b[0m",
      "\u001b[1;31mImportError\u001b[0m                               Traceback (most recent call last)",
      "\u001b[1;32m<ipython-input-1-45fd659da1fc>\u001b[0m in \u001b[0;36m<module>\u001b[1;34m()\u001b[0m\n\u001b[1;32m----> 1\u001b[1;33m \u001b[1;32mfrom\u001b[0m \u001b[0ma_protocol_0\u001b[0m \u001b[1;32mimport\u001b[0m \u001b[0mProtocol0\u001b[0m\u001b[1;33m,\u001b[0m \u001b[0mEmptyModule\u001b[0m\u001b[1;33m\u001b[0m\u001b[0m\n\u001b[0m\u001b[0;32m      2\u001b[0m \u001b[1;33m\u001b[0m\u001b[0m\n\u001b[0;32m      3\u001b[0m \u001b[0mp0\u001b[0m \u001b[1;33m=\u001b[0m \u001b[0mProtocol0\u001b[0m\u001b[1;33m(\u001b[0m\u001b[0mEmptyModule\u001b[0m\u001b[1;33m(\u001b[0m\u001b[0mis_false\u001b[0m\u001b[1;33m=\u001b[0m\u001b[0mFalse\u001b[0m\u001b[1;33m)\u001b[0m\u001b[1;33m,\u001b[0m \u001b[0minit_song\u001b[0m\u001b[1;33m=\u001b[0m\u001b[0mFalse\u001b[0m\u001b[1;33m)\u001b[0m\u001b[1;33m\u001b[0m\u001b[0m\n\u001b[0;32m      4\u001b[0m \u001b[1;33m\u001b[0m\u001b[0m\n\u001b[0;32m      5\u001b[0m \u001b[1;32mfrom\u001b[0m \u001b[0ma_protocol_0\u001b[0m\u001b[1;33m.\u001b[0m\u001b[0mdevices\u001b[0m\u001b[1;33m.\u001b[0m\u001b[0mAbstractInstrument\u001b[0m \u001b[1;32mimport\u001b[0m \u001b[0mAbstractInstrument\u001b[0m\u001b[1;33m\u001b[0m\u001b[0m\n",
      "\u001b[1;31mImportError\u001b[0m: No module named a_protocol_0"
     ]
    }
   ],
   "source": [
    "from a_protocol_0 import Protocol0, EmptyModule\n",
    "\n",
    "p0 = Protocol0(EmptyModule(is_false=False), init_song=False)\n",
    "\n",
    "from a_protocol_0.devices.AbstractInstrument import AbstractInstrument\n",
    "\n",
    "AbstractInstrument.instrument_classes()"
   ]
  },
  {
   "cell_type": "code",
   "execution_count": 8,
   "metadata": {},
   "outputs": [
    {
     "data": {
      "text/plain": [
       "'B\\\\xf6'"
      ]
     },
     "execution_count": 8,
     "metadata": {},
     "output_type": "execute_result"
    }
   ],
   "source": [
    "name = \"Bö\"\n",
    "name.decode(\"utf-8\").encode(\"ascii\", \"backslashreplace\")"
   ]
  },
  {
   "cell_type": "code",
   "execution_count": null,
   "metadata": {},
   "outputs": [],
   "source": [
    "s = "
   ]
  }
 ],
 "metadata": {
  "kernelspec": {
   "display_name": "Python 2",
   "language": "python",
   "name": "python2"
  },
  "language_info": {
   "codemirror_mode": {
    "name": "ipython",
    "version": 2
   },
   "file_extension": ".py",
   "mimetype": "text/x-python",
   "name": "python",
   "nbconvert_exporter": "python",
   "pygments_lexer": "ipython2",
   "version": "2.7.18"
  }
 },
 "nbformat": 4,
 "nbformat_minor": 2
}
