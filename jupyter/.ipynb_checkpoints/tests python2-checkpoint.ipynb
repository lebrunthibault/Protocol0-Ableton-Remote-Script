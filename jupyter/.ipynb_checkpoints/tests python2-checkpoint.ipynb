{
 "cells": [
  {
   "cell_type": "code",
   "execution_count": 3,
   "metadata": {},
   "outputs": [
    {
     "name": "stdout",
     "output_type": "stream",
     "text": [
      "listen\n",
      "/search/toto\n",
      "/search/toto\n",
      "received in\n",
      "2.1779999733\n"
     ]
    }
   ],
   "source": [
    "import mido\n",
    "import time\n",
    "\n",
    "# for msg in inport:\n",
    "#     print(msg)\n",
    "with mido.open_input('Protocol0 2') as inport:\n",
    "    start = time.time()\n",
    "    print(\"listen\")\n",
    "    msg = inport.receive()\n",
    "    bytes_msg = msg.bin()[1:-1]\n",
    "    string = bytes_msg.decode(\"utf-8\")\n",
    "    print(string)\n",
    "    print(\"received  in\")\n",
    "    print(time.time() - start)\n",
    "\n",
    "\n"
   ]
  },
  {
   "cell_type": "code",
   "execution_count": 1,
   "metadata": {},
   "outputs": [
    {
     "data": {
      "text/plain": [
       "(240, 47, 115, 101, 97, 114, 99, 104, 47, 116, 111, 116, 111, 247)"
      ]
     },
     "execution_count": 1,
     "metadata": {},
     "output_type": "execute_result"
    }
   ],
   "source": [
    "message = \"/search/toto\"\n",
    "b = bytearray(message.encode())\n",
    "type(b)\n",
    "b.insert(0, 0xF0)\n",
    "b.append(0xF7)\n",
    "tuple(b)\n"
   ]
  },
  {
   "cell_type": "code",
   "execution_count": 2,
   "metadata": {},
   "outputs": [
    {
     "data": {
      "text/plain": [
       "[2, 1, 2, 3, 5]"
      ]
     },
     "execution_count": 2,
     "metadata": {},
     "output_type": "execute_result"
    }
   ],
   "source": [
    "a = [1, 2, 3]\n",
    "b = [2] + a + [5]\n",
    "b"
   ]
  }
 ],
 "metadata": {
  "kernelspec": {
   "display_name": "Python 2",
   "language": "python",
   "name": "python2"
  },
  "language_info": {
   "codemirror_mode": {
    "name": "ipython",
    "version": 2
   },
   "file_extension": ".py",
   "mimetype": "text/x-python",
   "name": "python",
   "nbconvert_exporter": "python",
   "pygments_lexer": "ipython2",
   "version": "2.7.18"
  }
 },
 "nbformat": 4,
 "nbformat_minor": 2
}
