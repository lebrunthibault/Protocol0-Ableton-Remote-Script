{
 "cells": [
  {
   "cell_type": "code",
   "execution_count": 1,
   "metadata": {},
   "outputs": [
    {
     "name": "stdout",
     "output_type": "stream",
     "text": [
      "True\n",
      "None\n"
     ]
    }
   ],
   "source": [
    "res = {\n",
    "    \"class_instance\": None\n",
    "}\n",
    "\n",
    "def class_decorator(cls):\n",
    "   for name, method in cls.__dict__.iteritems():\n",
    "        if hasattr(method, \"use_class\"):\n",
    "            # do something with the method and class\n",
    "            res[\"class_instance\"] = cls\n",
    "#             print(name, cls)\n",
    "   return cls\n",
    "\n",
    "def method_decorator(view):\n",
    "    # mark the method as something that requires view's class\n",
    "    view.use_class = True\n",
    "    return view\n",
    "\n",
    "@class_decorator\n",
    "class ModelA(object):\n",
    "    @method_decorator\n",
    "    def a_method(self):\n",
    "        # do some stuff\n",
    "        print(\"a_method\")\n",
    "        pass\n",
    "    \n",
    "obj = ModelA()\n",
    "print(res[\"class_instance\"] == obj.__class__)\n",
    "from pydoc import locate\n",
    "a = locate(\"toto\")\n",
    "print(a)"
   ]
  },
  {
   "cell_type": "code",
   "execution_count": 10,
   "metadata": {},
   "outputs": [],
   "source": [
    "from protocol0.utils.utils import _has_callback_queue, is_lambda, get_callable_repr, nop\n",
    "from protocol0.sequence.Sequence import Sequence\n",
    "from protocol0 import EmptyModule, create_instance\n",
    "from protocol0.utils.callback_descriptor import CallableWithCallbacks\n",
    "\n",
    "p0 = create_instance(EmptyModule(is_false=False))\n",
    "\n",
    "def titi_listener():\n",
    "    pass\n",
    "\n",
    "class Test():\n",
    "    def toto():\n",
    "        pass\n",
    "    \n",
    "seq = Sequence()\n",
    "# print(get_callable_repr(seq.add))\n",
    "cwc = CallableWithCallbacks(titi_listener, True)\n",
    "\n",
    "seq.add(Test().toto, complete_on=cwc)\n",
    "# print(get_callable_repr(cwc))\n",
    "# print(get_callable_repr(seq._steps[0]))"
   ]
  },
  {
   "cell_type": "code",
   "execution_count": null,
   "metadata": {},
   "outputs": [],
   "source": []
  }
 ],
 "metadata": {
  "kernelspec": {
   "display_name": "Python 2",
   "language": "python",
   "name": "python2"
  },
  "language_info": {
   "codemirror_mode": {
    "name": "ipython",
    "version": 2
   },
   "file_extension": ".py",
   "mimetype": "text/x-python",
   "name": "python",
   "nbconvert_exporter": "python",
   "pygments_lexer": "ipython2",
   "version": "2.7.18"
  }
 },
 "nbformat": 4,
 "nbformat_minor": 4
}
