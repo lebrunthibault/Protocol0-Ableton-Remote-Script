{
 "cells": [
  {
   "cell_type": "code",
   "execution_count": 1,
   "metadata": {},
   "outputs": [
    {
     "data": {
      "text/plain": [
       "['',\n",
       " 'C:\\\\ProgramData\\\\Ableton\\\\Live 10 Suite\\\\Resources\\\\MIDI Remote Scripts',\n",
       " 'C:\\\\Users\\\\thiba\\\\Google Drive\\\\music\\\\dev\\\\Protocol0 System',\n",
       " 'C:\\\\Python27\\\\Lib\\\\site-packages',\n",
       " 'C:\\\\Users\\\\thiba\\\\AppData\\\\Roaming\\\\Python\\\\Python27\\\\site-packages',\n",
       " 'C:\\\\ProgramData\\\\Ableton\\\\Live 10 Suite\\\\Resources\\\\MIDI Remote Scripts\\\\a_protocol_0\\\\jupyter',\n",
       " 'C:\\\\WINDOWS\\\\SYSTEM32\\\\python27.zip',\n",
       " 'c:\\\\python27\\\\DLLs',\n",
       " 'c:\\\\python27\\\\lib',\n",
       " 'c:\\\\python27\\\\lib\\\\plat-win',\n",
       " 'c:\\\\python27\\\\lib\\\\lib-tk',\n",
       " 'c:\\\\python27',\n",
       " 'C:\\\\Users\\\\thiba\\\\AppData\\\\Roaming\\\\Python\\\\Python27\\\\site-packages\\\\openapi_client-1.0.0-py2.7.egg',\n",
       " 'C:\\\\Users\\\\thiba\\\\AppData\\\\Roaming\\\\Python\\\\Python27\\\\site-packages\\\\win32',\n",
       " 'C:\\\\Users\\\\thiba\\\\AppData\\\\Roaming\\\\Python\\\\Python27\\\\site-packages\\\\win32\\\\lib',\n",
       " 'C:\\\\Users\\\\thiba\\\\AppData\\\\Roaming\\\\Python\\\\Python27\\\\site-packages\\\\Pythonwin',\n",
       " 'c:\\\\python27\\\\lib\\\\site-packages\\\\Pythonwin',\n",
       " 'C:\\\\Users\\\\thiba\\\\AppData\\\\Roaming\\\\Python\\\\Python27\\\\site-packages\\\\openapi_client-1.0.0-py2.7.egg',\n",
       " 'C:\\\\Python27\\\\Lib\\\\site-packages\\\\IPython\\\\extensions',\n",
       " 'C:\\\\Users\\\\thiba\\\\.ipython',\n",
       " 'C:\\\\ProgramData\\\\Ableton\\\\Live 10 Suite\\\\Resources\\\\MIDI Remote Scripts',\n",
       " 'C:\\\\Users\\\\thiba\\\\Google Drive\\\\music\\\\dev\\\\Protocol0 System\\\\',\n",
       " 'C:\\\\Python27\\\\Lib\\\\site-packages',\n",
       " 'C:\\\\Users\\\\thiba\\\\AppData\\\\Roaming\\\\Python\\\\Python27\\\\site-packages',\n",
       " '']"
      ]
     },
     "execution_count": 1,
     "metadata": {},
     "output_type": "execute_result"
    }
   ],
   "source": [
    "import sys\n",
    "sys.path"
   ]
  }
 ],
 "metadata": {
  "kernelspec": {
   "display_name": "Python 2",
   "language": "python",
   "name": "python2"
  },
  "language_info": {
   "codemirror_mode": {
    "name": "ipython",
    "version": 2
   },
   "file_extension": ".py",
   "mimetype": "text/x-python",
   "name": "python",
   "nbconvert_exporter": "python",
   "pygments_lexer": "ipython2",
   "version": "2.7.18"
  }
 },
 "nbformat": 4,
 "nbformat_minor": 2
}
