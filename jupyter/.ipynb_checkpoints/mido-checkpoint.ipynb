{
 "cells": [
  {
   "cell_type": "code",
   "execution_count": null,
   "metadata": {},
   "outputs": [
    {
     "name": "stdout",
     "output_type": "stream",
     "text": [
      "Faderfox EC4 0\n",
      "Focusrite USB MIDI 1\n",
      "REV2_AUX 2\n",
      "REV2_CLK 3\n",
      "P0_IN 4\n",
      "P0_OUT 5\n",
      "listening on P0_OUT 5\n",
      "{\"method\": \"reload_ableton\"}\n",
      "{'method': 'reload_ableton'}\n"
     ]
    }
   ],
   "source": [
    "import mido\n",
    "import time\n",
    "import json\n",
    "\n",
    "INPUT_PORT_NAME = 'P0_OUT'\n",
    "\n",
    "p0_inport_name = None\n",
    "for inport_name in mido.get_input_names():\n",
    "    print(inport_name)\n",
    "    if INPUT_PORT_NAME in inport_name:\n",
    "        p0_inport_name = inport_name\n",
    "        break\n",
    "        \n",
    "if p0_inport_name is None:\n",
    "    raise Exception(\"couldn't find P0_OUT port\")\n",
    "    \n",
    "with mido.open_input(p0_inport_name, autoreset=False) as inport:\n",
    "    start = time.time()\n",
    "    print(f\"listening on {p0_inport_name}\")\n",
    "    for msg in inport:\n",
    "        if msg.is_cc(121) or msg.is_cc(123):\n",
    "            print(\"-\")\n",
    "            continue\n",
    "        bytes_msg = msg.bin()[1:-1]\n",
    "        string = bytes_msg.decode(\"utf-8\")\n",
    "        print(string)\n",
    "        obj = json.loads(string)\n",
    "        print(obj[\"method\"])\n"
   ]
  },
  {
   "cell_type": "code",
   "execution_count": 2,
   "metadata": {},
   "outputs": [
    {
     "data": {
      "text/plain": [
       "(2,)"
      ]
     },
     "execution_count": 2,
     "metadata": {},
     "output_type": "execute_result"
    }
   ],
   "source": [
    "t = (1, 2, 3)\n",
    "t[1:-1]"
   ]
  },
  {
   "cell_type": "code",
   "execution_count": 1,
   "metadata": {},
   "outputs": [
    {
     "data": {
      "text/plain": [
       "['Faderfox EC4 0',\n",
       " 'Focusrite USB MIDI 1',\n",
       " 'REV2_AUX 2',\n",
       " 'REV2_CLK 3',\n",
       " 'P0_OUT 4',\n",
       " 'P0_IN 5']"
      ]
     },
     "execution_count": 1,
     "metadata": {},
     "output_type": "execute_result"
    }
   ],
   "source": [
    "import mido\n",
    "mido.get_input_names()"
   ]
  }
 ],
 "metadata": {
  "kernelspec": {
   "display_name": "Python 3",
   "language": "python",
   "name": "python3"
  },
  "language_info": {
   "codemirror_mode": {
    "name": "ipython",
    "version": 3
   },
   "file_extension": ".py",
   "mimetype": "text/x-python",
   "name": "python",
   "nbconvert_exporter": "python",
   "pygments_lexer": "ipython3",
   "version": "3.7.3"
  }
 },
 "nbformat": 4,
 "nbformat_minor": 2
}
