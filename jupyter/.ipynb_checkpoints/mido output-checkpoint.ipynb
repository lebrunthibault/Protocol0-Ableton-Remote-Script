{
 "cells": [
  {
   "cell_type": "code",
   "execution_count": 21,
   "metadata": {},
   "outputs": [
    {
     "name": "stdout",
     "output_type": "stream",
     "text": [
      "port open : P0_IN 6\n",
      "Sending string to midi output : sysex from jupyter\n",
      "(240, 115, 121, 115, 101, 120, 32, 102, 114, 111, 109, 32, 106, 117, 112, 121, 116, 101, 114, 247)\n"
     ]
    },
    {
     "ename": "AttributeError",
     "evalue": "'tuple' object has no attribute 'bytes'",
     "output_type": "error",
     "traceback": [
      "\u001b[1;31m---------------------------------------------------------------------------\u001b[0m",
      "\u001b[1;31mAttributeError\u001b[0m                            Traceback (most recent call last)",
      "\u001b[1;32m<ipython-input-21-684f6d3f7570>\u001b[0m in \u001b[0;36m<module>\u001b[1;34m\u001b[0m\n\u001b[0;32m     26\u001b[0m     \u001b[0mmsg\u001b[0m \u001b[1;33m=\u001b[0m \u001b[0mget_message_from_string\u001b[0m\u001b[1;33m(\u001b[0m\u001b[1;34m\"sysex from jupyter\"\u001b[0m\u001b[1;33m)\u001b[0m\u001b[1;33m\u001b[0m\u001b[1;33m\u001b[0m\u001b[0m\n\u001b[0;32m     27\u001b[0m     \u001b[0mprint\u001b[0m\u001b[1;33m(\u001b[0m\u001b[0mmsg\u001b[0m\u001b[1;33m)\u001b[0m\u001b[1;33m\u001b[0m\u001b[1;33m\u001b[0m\u001b[0m\n\u001b[1;32m---> 28\u001b[1;33m     \u001b[0moutport\u001b[0m\u001b[1;33m.\u001b[0m\u001b[0msend\u001b[0m\u001b[1;33m(\u001b[0m\u001b[0mmsg\u001b[0m\u001b[1;33m)\u001b[0m\u001b[1;33m\u001b[0m\u001b[1;33m\u001b[0m\u001b[0m\n\u001b[0m\u001b[0;32m     29\u001b[0m     \u001b[0mprint\u001b[0m\u001b[1;33m(\u001b[0m\u001b[1;34mf\"sent: {msg}\"\u001b[0m\u001b[1;33m)\u001b[0m\u001b[1;33m\u001b[0m\u001b[1;33m\u001b[0m\u001b[0m\n",
      "\u001b[1;32m~\\AppData\\Local\\Programs\\Python\\Python37\\lib\\site-packages\\mido\\backends\\rtmidi.py\u001b[0m in \u001b[0;36msend\u001b[1;34m(self, msg)\u001b[0m\n\u001b[0;32m    200\u001b[0m         \u001b[1;34m\"\"\"Send a message on the port.\"\"\"\u001b[0m\u001b[1;33m\u001b[0m\u001b[1;33m\u001b[0m\u001b[0m\n\u001b[0;32m    201\u001b[0m         \u001b[1;32mwith\u001b[0m \u001b[0mself\u001b[0m\u001b[1;33m.\u001b[0m\u001b[0m_send_lock\u001b[0m\u001b[1;33m:\u001b[0m\u001b[1;33m\u001b[0m\u001b[1;33m\u001b[0m\u001b[0m\n\u001b[1;32m--> 202\u001b[1;33m             \u001b[0mself\u001b[0m\u001b[1;33m.\u001b[0m\u001b[0m_rt\u001b[0m\u001b[1;33m.\u001b[0m\u001b[0msend_message\u001b[0m\u001b[1;33m(\u001b[0m\u001b[0mmsg\u001b[0m\u001b[1;33m.\u001b[0m\u001b[0mbytes\u001b[0m\u001b[1;33m(\u001b[0m\u001b[1;33m)\u001b[0m\u001b[1;33m)\u001b[0m\u001b[1;33m\u001b[0m\u001b[1;33m\u001b[0m\u001b[0m\n\u001b[0m\u001b[0;32m    203\u001b[0m \u001b[1;33m\u001b[0m\u001b[0m\n\u001b[0;32m    204\u001b[0m     \u001b[0msend\u001b[0m\u001b[1;33m.\u001b[0m\u001b[0m__doc__\u001b[0m \u001b[1;33m=\u001b[0m \u001b[0mports\u001b[0m\u001b[1;33m.\u001b[0m\u001b[0mBaseOutput\u001b[0m\u001b[1;33m.\u001b[0m\u001b[0msend\u001b[0m\u001b[1;33m.\u001b[0m\u001b[0m__doc__\u001b[0m\u001b[1;33m\u001b[0m\u001b[1;33m\u001b[0m\u001b[0m\n",
      "\u001b[1;31mAttributeError\u001b[0m: 'tuple' object has no attribute 'bytes'"
     ]
    }
   ],
   "source": [
    "import mido\n",
    "\n",
    "OUTPUT_PORT_NAME = 'P0_IN'\n",
    "# OUTPUT_PORT_NAME = 'Faderfox EC4'\n",
    "\n",
    "def get_message_from_string(message):\n",
    "    # type: (str) -> None\n",
    "    print(\"Sending string to midi output : %s\" % message)\n",
    "    b = bytearray(message.encode())\n",
    "    b.insert(0, 0xF0)\n",
    "    b.append(0xF7)\n",
    "    return mido.Message.from_bytes(b)\n",
    "    return tuple(b)\n",
    "\n",
    "p0_outport_name = None\n",
    "for outport_name in mido.get_output_names():\n",
    "    if OUTPUT_PORT_NAME in outport_name:\n",
    "        p0_outport_name = outport_name\n",
    "        break\n",
    "        \n",
    "if p0_outport_name is None:\n",
    "    raise Exception(\"couldn't find {OUTPUT_PORT_NAME} port\")\n",
    "    \n",
    "with mido.open_output(p0_outport_name, autoreset=False) as outport:\n",
    "    print(f\"port open : {p0_outport_name}\")\n",
    "    msg = get_message_from_string(\"sysex from jupyter\")\n",
    "    print(msg)\n",
    "    outport.send(msg)\n",
    "    print(f\"sent: {msg}\")\n"
   ]
  }
 ],
 "metadata": {
  "kernelspec": {
   "display_name": "Python 3",
   "language": "python",
   "name": "python3"
  },
  "language_info": {
   "codemirror_mode": {
    "name": "ipython",
    "version": 3
   },
   "file_extension": ".py",
   "mimetype": "text/x-python",
   "name": "python",
   "nbconvert_exporter": "python",
   "pygments_lexer": "ipython3",
   "version": "3.7.3"
  }
 },
 "nbformat": 4,
 "nbformat_minor": 2
}
