{
 "cells": [
  {
   "cell_type": "code",
   "execution_count": null,
   "metadata": {},
   "outputs": [],
   "source": [
    "from functools import partial\n",
    "from __future__ import print_function\n",
    "\n",
    "from a_protocol_0.sequence.Sequence import Sequence\n",
    "from a_protocol_0 import Protocol0, EmptyModule\n",
    "\n",
    "p0 = Protocol0(EmptyModule(is_false=False), init_song=False)\n",
    "\n",
    "def seq_creator(i):\n",
    "    if i == 0:\n",
    "        return None\n",
    "    return Sequence().add(partial(seq_creator, i - 1), name=\"seq %s\" % i).done()\n",
    "\n",
    "def check_function(res):\n",
    "    print(\"check and return %s\" % res)\n",
    "    return res\n",
    "\n",
    "def check_seq(res):\n",
    "    seq = Sequence(name=\"check seq\")\n",
    "    seq.add(partial(check_function, res))\n",
    "    return seq.done()\n",
    "\n",
    "def inner_print_seq(message):\n",
    "    seq = Sequence(name=\"inner print seq\")\n",
    "    seq.add(lambda: print(message))\n",
    "    return seq.done()\n",
    "\n",
    "def print_seq(message):\n",
    "    seq = Sequence(name=\"print seq\")\n",
    "    seq.add(partial(inner_print_seq, message))\n",
    "    return seq.done()\n",
    "\n",
    "with p0.component_guard():\n",
    "#     seq = Sequence(name=\"test seq\")\n",
    "#     seq.add(partial(seq_creator, 2))\n",
    "#     seq.done()()\n",
    "#     check_seq(True)()\n",
    "#     print(\"------\")\n",
    "    \n",
    "#     seq = Sequence(name=\"main\").add(partial(print_seq, \"titi messaged\"), do_if=partial(check_seq, True))\n",
    "#     seq.done()()\n",
    "\n",
    "    seq = p0.protocol0_song.select_track(EmptyModule())\n",
    "    print(seq._auto_start)\n",
    "    \n",
    "# p0.actionManager.action_scroll_tracks(go_next=True)\n"
   ]
  },
  {
   "cell_type": "code",
   "execution_count": 11,
   "metadata": {},
   "outputs": [
    {
     "name": "stdout",
     "output_type": "stream",
     "text": [
      "P0 - info: Protocol0 script loaded\n",
      "['to_STARTED', 'terminate', 'to_UN_STARTED', 'to_ERRORED', 'start', 'error', 'to_PAUSED', 'to_TERMINATED']\n"
     ]
    },
    {
     "ename": "MachineError",
     "evalue": "\"Can't trigger event start from state TERMINATED!\"",
     "output_type": "error",
     "traceback": [
      "\u001b[1;31m---------------------------------------------------------------------------\u001b[0m",
      "\u001b[1;31mMachineError\u001b[0m                              Traceback (most recent call last)",
      "\u001b[1;32m<ipython-input-11-06fa82877445>\u001b[0m in \u001b[0;36m<module>\u001b[1;34m()\u001b[0m\n\u001b[0;32m     10\u001b[0m     \u001b[0mseq\u001b[0m\u001b[1;33m.\u001b[0m\u001b[0m_state_machine\u001b[0m\u001b[1;33m.\u001b[0m\u001b[0mstate\u001b[0m \u001b[1;33m=\u001b[0m \u001b[0mSequenceState\u001b[0m\u001b[1;33m.\u001b[0m\u001b[0mTERMINATED\u001b[0m\u001b[1;33m\u001b[0m\u001b[0m\n\u001b[0;32m     11\u001b[0m     \u001b[1;32mprint\u001b[0m\u001b[1;33m(\u001b[0m\u001b[0mseq\u001b[0m\u001b[1;33m.\u001b[0m\u001b[0m_state_machine\u001b[0m\u001b[1;33m.\u001b[0m\u001b[0mget_triggers\u001b[0m\u001b[1;33m(\u001b[0m\u001b[0mSequenceState\u001b[0m\u001b[1;33m.\u001b[0m\u001b[0mUN_STARTED\u001b[0m\u001b[1;33m.\u001b[0m\u001b[0mname\u001b[0m\u001b[1;33m)\u001b[0m\u001b[1;33m)\u001b[0m\u001b[1;33m\u001b[0m\u001b[0m\n\u001b[1;32m---> 12\u001b[1;33m     \u001b[1;32mprint\u001b[0m\u001b[1;33m(\u001b[0m\u001b[0mseq\u001b[0m\u001b[1;33m.\u001b[0m\u001b[0m_state_machine\u001b[0m\u001b[1;33m.\u001b[0m\u001b[0mdispatch\u001b[0m\u001b[1;33m(\u001b[0m\u001b[1;34m\"start\"\u001b[0m\u001b[1;33m)\u001b[0m\u001b[1;33m)\u001b[0m\u001b[1;33m\u001b[0m\u001b[0m\n\u001b[0m\u001b[0;32m     13\u001b[0m     \u001b[1;32mprint\u001b[0m\u001b[1;33m(\u001b[0m\u001b[0mseq\u001b[0m\u001b[1;33m.\u001b[0m\u001b[0m_state_machine\u001b[0m\u001b[1;33m.\u001b[0m\u001b[0mstate\u001b[0m\u001b[1;33m)\u001b[0m\u001b[1;33m\u001b[0m\u001b[0m\n",
      "\u001b[1;32mC:\\Python27\\Lib\\site-packages\\transitions\\core.pyc\u001b[0m in \u001b[0;36mdispatch\u001b[1;34m(self, trigger, *args, **kwargs)\u001b[0m\n\u001b[0;32m   1076\u001b[0m             \u001b[0mbool\u001b[0m \u001b[0mThe\u001b[0m \u001b[0mtruth\u001b[0m \u001b[0mvalue\u001b[0m \u001b[0mof\u001b[0m \u001b[0mall\u001b[0m \u001b[0mtriggers\u001b[0m \u001b[0mcombined\u001b[0m \u001b[1;32mwith\u001b[0m \u001b[0mAND\u001b[0m\u001b[1;33m\u001b[0m\u001b[0m\n\u001b[0;32m   1077\u001b[0m         \"\"\"\n\u001b[1;32m-> 1078\u001b[1;33m         \u001b[1;32mreturn\u001b[0m \u001b[0mall\u001b[0m\u001b[1;33m(\u001b[0m\u001b[1;33m[\u001b[0m\u001b[0mgetattr\u001b[0m\u001b[1;33m(\u001b[0m\u001b[0mmodel\u001b[0m\u001b[1;33m,\u001b[0m \u001b[0mtrigger\u001b[0m\u001b[1;33m)\u001b[0m\u001b[1;33m(\u001b[0m\u001b[1;33m*\u001b[0m\u001b[0margs\u001b[0m\u001b[1;33m,\u001b[0m \u001b[1;33m**\u001b[0m\u001b[0mkwargs\u001b[0m\u001b[1;33m)\u001b[0m \u001b[1;32mfor\u001b[0m \u001b[0mmodel\u001b[0m \u001b[1;32min\u001b[0m \u001b[0mself\u001b[0m\u001b[1;33m.\u001b[0m\u001b[0mmodels\u001b[0m\u001b[1;33m]\u001b[0m\u001b[1;33m)\u001b[0m\u001b[1;33m\u001b[0m\u001b[0m\n\u001b[0m\u001b[0;32m   1079\u001b[0m \u001b[1;33m\u001b[0m\u001b[0m\n\u001b[0;32m   1080\u001b[0m     \u001b[1;32mdef\u001b[0m \u001b[0mcallbacks\u001b[0m\u001b[1;33m(\u001b[0m\u001b[0mself\u001b[0m\u001b[1;33m,\u001b[0m \u001b[0mfuncs\u001b[0m\u001b[1;33m,\u001b[0m \u001b[0mevent_data\u001b[0m\u001b[1;33m)\u001b[0m\u001b[1;33m:\u001b[0m\u001b[1;33m\u001b[0m\u001b[0m\n",
      "\u001b[1;32mC:\\Python27\\Lib\\site-packages\\transitions\\core.pyc\u001b[0m in \u001b[0;36mtrigger\u001b[1;34m(self, model, *args, **kwargs)\u001b[0m\n\u001b[0;32m    391\u001b[0m         \u001b[1;31m# Machine._process should not be called somewhere else. That's why it should not be exposed\u001b[0m\u001b[1;33m\u001b[0m\u001b[1;33m\u001b[0m\u001b[0m\n\u001b[0;32m    392\u001b[0m         \u001b[1;31m# to Machine users.\u001b[0m\u001b[1;33m\u001b[0m\u001b[1;33m\u001b[0m\u001b[0m\n\u001b[1;32m--> 393\u001b[1;33m         \u001b[1;32mreturn\u001b[0m \u001b[0mself\u001b[0m\u001b[1;33m.\u001b[0m\u001b[0mmachine\u001b[0m\u001b[1;33m.\u001b[0m\u001b[0m_process\u001b[0m\u001b[1;33m(\u001b[0m\u001b[0mfunc\u001b[0m\u001b[1;33m)\u001b[0m\u001b[1;33m\u001b[0m\u001b[0m\n\u001b[0m\u001b[0;32m    394\u001b[0m \u001b[1;33m\u001b[0m\u001b[0m\n\u001b[0;32m    395\u001b[0m     \u001b[1;32mdef\u001b[0m \u001b[0m_trigger\u001b[0m\u001b[1;33m(\u001b[0m\u001b[0mself\u001b[0m\u001b[1;33m,\u001b[0m \u001b[0mmodel\u001b[0m\u001b[1;33m,\u001b[0m \u001b[1;33m*\u001b[0m\u001b[0margs\u001b[0m\u001b[1;33m,\u001b[0m \u001b[1;33m**\u001b[0m\u001b[0mkwargs\u001b[0m\u001b[1;33m)\u001b[0m\u001b[1;33m:\u001b[0m\u001b[1;33m\u001b[0m\u001b[0m\n",
      "\u001b[1;32mC:\\Python27\\Lib\\site-packages\\transitions\\core.pyc\u001b[0m in \u001b[0;36m_process\u001b[1;34m(self, trigger)\u001b[0m\n\u001b[0;32m   1146\u001b[0m             \u001b[1;32mif\u001b[0m \u001b[1;32mnot\u001b[0m \u001b[0mself\u001b[0m\u001b[1;33m.\u001b[0m\u001b[0m_transition_queue\u001b[0m\u001b[1;33m:\u001b[0m\u001b[1;33m\u001b[0m\u001b[0m\n\u001b[0;32m   1147\u001b[0m                 \u001b[1;31m# if trigger raises an Error, it has to be handled by the Machine.process caller\u001b[0m\u001b[1;33m\u001b[0m\u001b[1;33m\u001b[0m\u001b[0m\n\u001b[1;32m-> 1148\u001b[1;33m                 \u001b[1;32mreturn\u001b[0m \u001b[0mtrigger\u001b[0m\u001b[1;33m(\u001b[0m\u001b[1;33m)\u001b[0m\u001b[1;33m\u001b[0m\u001b[0m\n\u001b[0m\u001b[0;32m   1149\u001b[0m             \u001b[1;32melse\u001b[0m\u001b[1;33m:\u001b[0m\u001b[1;33m\u001b[0m\u001b[0m\n\u001b[0;32m   1150\u001b[0m                 \u001b[1;32mraise\u001b[0m \u001b[0mMachineError\u001b[0m\u001b[1;33m(\u001b[0m\u001b[1;34m\"Attempt to process events synchronously while transition queue is not empty!\"\u001b[0m\u001b[1;33m)\u001b[0m\u001b[1;33m\u001b[0m\u001b[0m\n",
      "\u001b[1;32mC:\\Python27\\Lib\\site-packages\\transitions\\core.pyc\u001b[0m in \u001b[0;36m_trigger\u001b[1;34m(self, model, *args, **kwargs)\u001b[0m\n\u001b[0;32m    407\u001b[0m                 \u001b[1;32mreturn\u001b[0m \u001b[0mFalse\u001b[0m\u001b[1;33m\u001b[0m\u001b[0m\n\u001b[0;32m    408\u001b[0m             \u001b[1;32melse\u001b[0m\u001b[1;33m:\u001b[0m\u001b[1;33m\u001b[0m\u001b[0m\n\u001b[1;32m--> 409\u001b[1;33m                 \u001b[1;32mraise\u001b[0m \u001b[0mMachineError\u001b[0m\u001b[1;33m(\u001b[0m\u001b[0mmsg\u001b[0m\u001b[1;33m)\u001b[0m\u001b[1;33m\u001b[0m\u001b[0m\n\u001b[0m\u001b[0;32m    410\u001b[0m         \u001b[0mevent_data\u001b[0m \u001b[1;33m=\u001b[0m \u001b[0mEventData\u001b[0m\u001b[1;33m(\u001b[0m\u001b[0mstate\u001b[0m\u001b[1;33m,\u001b[0m \u001b[0mself\u001b[0m\u001b[1;33m,\u001b[0m \u001b[0mself\u001b[0m\u001b[1;33m.\u001b[0m\u001b[0mmachine\u001b[0m\u001b[1;33m,\u001b[0m \u001b[0mmodel\u001b[0m\u001b[1;33m,\u001b[0m \u001b[0margs\u001b[0m\u001b[1;33m=\u001b[0m\u001b[0margs\u001b[0m\u001b[1;33m,\u001b[0m \u001b[0mkwargs\u001b[0m\u001b[1;33m=\u001b[0m\u001b[0mkwargs\u001b[0m\u001b[1;33m)\u001b[0m\u001b[1;33m\u001b[0m\u001b[0m\n\u001b[0;32m    411\u001b[0m         \u001b[1;32mreturn\u001b[0m \u001b[0mself\u001b[0m\u001b[1;33m.\u001b[0m\u001b[0m_process\u001b[0m\u001b[1;33m(\u001b[0m\u001b[0mevent_data\u001b[0m\u001b[1;33m)\u001b[0m\u001b[1;33m\u001b[0m\u001b[0m\n",
      "\u001b[1;31mMachineError\u001b[0m: \"Can't trigger event start from state TERMINATED!\""
     ]
    }
   ],
   "source": [
    "from a_protocol_0.sequence.Sequence import Sequence\n",
    "from __future__ import print_function\n",
    "from a_protocol_0 import Protocol0, EmptyModule\n",
    "from a_protocol_0.sequence.SequenceState import SequenceState, SequenceLogLevel\n",
    "\n",
    "\n",
    "p0 = Protocol0(EmptyModule(is_false=False), init_song=False)\n",
    "with p0.component_guard():\n",
    "    seq = Sequence()\n",
    "    seq._state_machine.state = SequenceState.TERMINATED\n",
    "    print(seq._state_machine.dispatch(\"start\"))\n",
    "    print(seq._state_machine.state)    \n"
   ]
  },
  {
   "cell_type": "code",
   "execution_count": 4,
   "metadata": {},
   "outputs": [
    {
     "data": {
      "text/plain": [
       "<SequenceState.STARTED: 'STARTED'>"
      ]
     },
     "execution_count": 4,
     "metadata": {},
     "output_type": "execute_result"
    }
   ],
   "source": [
    "from a_protocol_0.sequence.SequenceState import SequenceState, SequenceLogLevel\n",
    "from transitions import Machine\n",
    "\n",
    "transitions = [\n",
    "        ['start', SequenceState.UN_STARTED, SequenceState.STARTED],\n",
    "        ['start', SequenceState.PAUSED, SequenceState.STARTED],\n",
    "        ['pause', SequenceState.STARTED, SequenceState.PAUSED],\n",
    "        ['terminate', SequenceState.UN_STARTED, SequenceState.TERMINATED],\n",
    "        ['terminate', SequenceState.STARTED, SequenceState.TERMINATED],\n",
    "        ['terminate', SequenceState.PAUSED, SequenceState.TERMINATED],\n",
    "        ['error', '*', SequenceState.ERRORED]\n",
    "    ]\n",
    "\n",
    "class Test():\n",
    "    pass\n",
    "\n",
    "test = Test()\n",
    "\n",
    "machine = Machine(model=test, states=SequenceState, transitions=transitions,\n",
    "                            initial=SequenceState.UN_STARTED)\n",
    "\n",
    "\n",
    "machine.dispatch(\"start\")\n",
    "test.state\n"
   ]
  }
 ],
 "metadata": {
  "kernelspec": {
   "display_name": "Python 2",
   "language": "python",
   "name": "python2"
  },
  "language_info": {
   "codemirror_mode": {
    "name": "ipython",
    "version": 2
   },
   "file_extension": ".py",
   "mimetype": "text/x-python",
   "name": "python",
   "nbconvert_exporter": "python",
   "pygments_lexer": "ipython2",
   "version": "2.7.18"
  }
 },
 "nbformat": 4,
 "nbformat_minor": 2
}
