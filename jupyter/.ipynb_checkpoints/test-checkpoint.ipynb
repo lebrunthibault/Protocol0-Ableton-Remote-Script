{
 "cells": [
  {
   "cell_type": "code",
   "execution_count": 25,
   "metadata": {},
   "outputs": [
    {
     "name": "stdout",
     "output_type": "stream",
     "text": [
      "took 0.200000047684\n"
     ]
    }
   ],
   "source": [
    "from collections import defaultdict, deque\n",
    "import time\n",
    "\n",
    "callbacks = deque()\n",
    "\n",
    "\n",
    "class Test:\n",
    "    TOTO=2\n",
    "    def __init__(self, val, is_active=True):\n",
    "        self._val = val\n",
    "        self.is_active = is_active\n",
    "        \n",
    "    def toto(self):\n",
    "        print(self.val)\n",
    "        \n",
    "    def __repr__(self):\n",
    "        return \"repr\"\n",
    "    \n",
    "    def __str__(self):\n",
    "        return \"str\"\n",
    "\n",
    "    @property\n",
    "    def val(self):\n",
    "        return self._val\n",
    "    \n",
    "    @val.setter\n",
    "    def val(self, val):\n",
    "        self._val = val\n",
    "    @property\n",
    "    def test(self):\n",
    "        return 42\n",
    "    \n",
    "    @test.setter\n",
    "    def test(self, test):\n",
    "        print(\"setting test : %s\" % test)\n",
    "\n",
    "\n",
    "tracks = []\n",
    "for i in range(10000):\n",
    "    tracks.append(Test(val=i, is_active=i % 100 != 0))\n",
    "    \n",
    "start = time.time()\n",
    "active_tracks = [track for track in tracks if track.is_active]\n",
    "for t in active_tracks:\n",
    "    pass\n",
    "\n",
    "took = (time.time() - start)\n",
    "print(\"took %s\" % took)"
   ]
  },
  {
   "cell_type": "code",
   "execution_count": 5,
   "metadata": {},
   "outputs": [
    {
     "data": {
      "text/plain": [
       "0.9999"
      ]
     },
     "execution_count": 5,
     "metadata": {},
     "output_type": "execute_result"
    }
   ],
   "source": []
  }
 ],
 "metadata": {
  "kernelspec": {
   "display_name": "Python 2",
   "language": "python",
   "name": "python2"
  },
  "language_info": {
   "codemirror_mode": {
    "name": "ipython",
    "version": 2
   },
   "file_extension": ".py",
   "mimetype": "text/x-python",
   "name": "python",
   "nbconvert_exporter": "python",
   "pygments_lexer": "ipython2",
   "version": "2.7.18"
  }
 },
 "nbformat": 4,
 "nbformat_minor": 2
}
