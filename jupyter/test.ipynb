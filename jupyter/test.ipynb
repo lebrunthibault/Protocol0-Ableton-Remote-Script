{
 "cells": [
  {
   "cell_type": "code",
   "execution_count": 1,
   "metadata": {},
   "outputs": [
    {
     "data": {
      "text/plain": [
       "'str'"
      ]
     },
     "execution_count": 1,
     "metadata": {},
     "output_type": "execute_result"
    }
   ],
   "source": [
    "from collections import defaultdict, deque\n",
    "\n",
    "\n",
    "callbacks = deque()\n",
    "\n",
    "\n",
    "class Test:\n",
    "    TOTO=2\n",
    "    def __init__(self, val):\n",
    "        self.val = val\n",
    "    def toto(self):\n",
    "        print(self.val)\n",
    "        \n",
    "    def __repr__(self):\n",
    "        return \"repr\"\n",
    "    \n",
    "    def __str__(self):\n",
    "        return \"str\"\n",
    "    \n",
    "    @property\n",
    "    def test(self):\n",
    "        return 42\n",
    "    \n",
    "    @test.setter\n",
    "    def test(self, test):\n",
    "        print(\"setting test : %s\" % test)\n",
    "\n",
    "a = Test(\"a\")\n",
    "\n",
    "str(a)\n"
   ]
  },
  {
   "cell_type": "code",
   "execution_count": 1,
   "metadata": {},
   "outputs": [
    {
     "name": "stdout",
     "output_type": "stream",
     "text": [
      "init B\n",
      "init A\n",
      "init Child\n"
     ]
    }
   ],
   "source": [
    "class A(object):\n",
    "    def __init__(self, *a, **k):\n",
    "        super(A, self).__init__(*a, **k)\n",
    "        print(\"init A\")\n",
    "        \n",
    "class B(object):\n",
    "    def __init__(self, *a, **k):\n",
    "        print(\"init B\")\n",
    "        \n",
    "class Child(A, B):\n",
    "    def __init__(self, *a, **k):\n",
    "        super(Child, self).__init__(*a, **k)\n",
    "        print(\"init Child\")\n",
    "        \n",
    "c = Child()"
   ]
  },
  {
   "cell_type": "code",
   "execution_count": 12,
   "metadata": {},
   "outputs": [
    {
     "ename": "IndexError",
     "evalue": "list index out of range",
     "output_type": "error",
     "traceback": [
      "\u001b[1;31m---------------------------------------------------------------------------\u001b[0m",
      "\u001b[1;31mIndexError\u001b[0m                                Traceback (most recent call last)",
      "\u001b[1;32m<ipython-input-12-46512572d8e0>\u001b[0m in \u001b[0;36m<module>\u001b[1;34m()\u001b[0m\n\u001b[0;32m     10\u001b[0m \u001b[0mmy_list\u001b[0m \u001b[1;33m=\u001b[0m \u001b[0mMyList\u001b[0m\u001b[1;33m(\u001b[0m\u001b[1;33m[\u001b[0m\u001b[1;36m1\u001b[0m\u001b[1;33m,\u001b[0m \u001b[1;36m2\u001b[0m\u001b[1;33m]\u001b[0m\u001b[1;33m)\u001b[0m\u001b[1;33m\u001b[0m\u001b[0m\n\u001b[0;32m     11\u001b[0m \u001b[1;33m\u001b[0m\u001b[0m\n\u001b[1;32m---> 12\u001b[1;33m \u001b[0mmy_list\u001b[0m\u001b[1;33m[\u001b[0m\u001b[1;36m1\u001b[0m\u001b[1;33m]\u001b[0m\u001b[1;33m\u001b[0m\u001b[0m\n\u001b[0m\u001b[0;32m     13\u001b[0m \u001b[0mmy_list\u001b[0m\u001b[1;33m.\u001b[0m\u001b[0mtoto\u001b[0m\u001b[1;33m(\u001b[0m\u001b[1;33m)\u001b[0m\u001b[1;33m\u001b[0m\u001b[0m\n\u001b[0;32m     14\u001b[0m \u001b[1;33m\u001b[0m\u001b[0m\n",
      "\u001b[1;31mIndexError\u001b[0m: list index out of range"
     ]
    }
   ],
   "source": [
    "from a_protocol_0.lom.AbstractObject import AbstractObject\n",
    "\n",
    "class MyList(AbstractObject, list):\n",
    "    def __init__(self, l = []):\n",
    "        super(MyList, self).__init__(l)\n",
    "        \n",
    "    def toto(self):\n",
    "        print(\"toto\")\n",
    "        \n",
    "my_list = MyList([1, 2])\n",
    "\n",
    "my_list[1]\n",
    "my_list.toto()\n",
    "    "
   ]
  }
 ],
 "metadata": {
  "kernelspec": {
   "display_name": "Python 2",
   "language": "python",
   "name": "python2"
  },
  "language_info": {
   "codemirror_mode": {
    "name": "ipython",
    "version": 2
   },
   "file_extension": ".py",
   "mimetype": "text/x-python",
   "name": "python",
   "nbconvert_exporter": "python",
   "pygments_lexer": "ipython2",
   "version": "2.7.18"
  }
 },
 "nbformat": 4,
 "nbformat_minor": 2
}
