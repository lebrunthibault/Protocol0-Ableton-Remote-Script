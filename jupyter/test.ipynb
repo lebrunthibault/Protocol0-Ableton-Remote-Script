{
 "cells": [
  {
   "cell_type": "code",
   "execution_count": 4,
   "metadata": {},
   "outputs": [
    {
     "data": {
      "text/plain": [
       "'str'"
      ]
     },
     "execution_count": 4,
     "metadata": {},
     "output_type": "execute_result"
    }
   ],
   "source": [
    "from collections import defaultdict, deque\n",
    "\n",
    "\n",
    "callbacks = deque()\n",
    "\n",
    "\n",
    "class Test:\n",
    "    TOTO=2\n",
    "    def __init__(self, val):\n",
    "        self.val = val\n",
    "    def toto(self):\n",
    "        print(self.val)\n",
    "        \n",
    "    def __repr__(self):\n",
    "        return \"repr\"\n",
    "    \n",
    "    def __str__(self):\n",
    "        return \"str\"\n",
    "    \n",
    "    @property\n",
    "    def test(self):\n",
    "        return 42\n",
    "    \n",
    "    @test.setter\n",
    "    def test(self, test):\n",
    "        print(\"setting test : %s\" % test)\n",
    "\n",
    "a = Test(\"a\")\n",
    "\n",
    "str(a)\n"
   ]
  },
  {
   "cell_type": "code",
   "execution_count": 1,
   "metadata": {},
   "outputs": [
    {
     "name": "stdout",
     "output_type": "stream",
     "text": [
      "toto -> 42\n",
      "titi -> 43\n"
     ]
    }
   ],
   "source": [
    "import collections\n",
    "\n",
    "tracks = collections.OrderedDict()\n",
    "\n",
    "tracks.update({\"toto\": 42})\n",
    "tracks.update({\"titi\": 43})    \n",
    "\n",
    "\n",
    "for simple_track, abstract_group_track in tracks.items():\n",
    "    print(\"%s -> %s\" % (simple_track, abstract_group_track))\n"
   ]
  },
  {
   "cell_type": "code",
   "execution_count": 7,
   "metadata": {},
   "outputs": [
    {
     "name": "stdout",
     "output_type": "stream",
     "text": [
      "1\n",
      "None\n"
     ]
    }
   ],
   "source": [
    "import re\n",
    "name = \"1 (1s6)\"\n",
    "match = re.match(\"^(?P<base_name>[^()]*)(\\((?P<bar_count>\\d*)\\))?.*$\", name)\n",
    "base_name = match.group(\"base_name\").strip() if match else \"\"\n",
    "bar_count = int(match.group(\"bar_count\")) if match and match.group(\"bar_count\") else None\n",
    "\n",
    "print(base_name)\n",
    "print(bar_count)"
   ]
  }
 ],
 "metadata": {
  "kernelspec": {
   "display_name": "Python 2",
   "language": "python",
   "name": "python2"
  },
  "language_info": {
   "codemirror_mode": {
    "name": "ipython",
    "version": 2
   },
   "file_extension": ".py",
   "mimetype": "text/x-python",
   "name": "python",
   "nbconvert_exporter": "python",
   "pygments_lexer": "ipython2",
   "version": "2.7.18"
  }
 },
 "nbformat": 4,
 "nbformat_minor": 2
}
