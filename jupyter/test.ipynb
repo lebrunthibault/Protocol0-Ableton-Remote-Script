{
 "cells": [
  {
   "cell_type": "code",
   "execution_count": 10,
   "metadata": {},
   "outputs": [
    {
     "name": "stdout",
     "output_type": "stream",
     "text": [
      "b\n",
      "2\n",
      "2\n"
     ]
    }
   ],
   "source": [
    "from collections import defaultdict, deque\n",
    "\n",
    "\n",
    "callbacks = deque()\n",
    "\n",
    "\n",
    "class Test:\n",
    "    TOTO=2\n",
    "    def __init__(self, val):\n",
    "        self.val = val\n",
    "    def toto(self):\n",
    "        print(self.val)\n",
    "    \n",
    "    @property\n",
    "    def test(self):\n",
    "        return 42\n",
    "    \n",
    "    @test.setter\n",
    "    def test(self, test):\n",
    "        print(\"setting test : %s\" % test)\n",
    "a = Test(\"a\")\n",
    "b = Test(\"b\")\n",
    "\n",
    "dir(a.toto)\n",
    "a.toto.__func__\n",
    "a.toto.__func__(b)\n",
    "print(a.__class__.TOTO)\n",
    "print(Test.TOTO)"
   ]
  },
  {
   "cell_type": "code",
   "execution_count": 5,
   "metadata": {},
   "outputs": [
    {
     "data": {
      "text/plain": [
       "True"
      ]
     },
     "execution_count": 5,
     "metadata": {},
     "output_type": "execute_result"
    }
   ],
   "source": [
    "a = None\n",
    "a in (None, 1)"
   ]
  },
  {
   "cell_type": "code",
   "execution_count": null,
   "metadata": {},
   "outputs": [],
   "source": []
  },
  {
   "cell_type": "code",
   "execution_count": 26,
   "metadata": {},
   "outputs": [],
   "source": [
    "from enum import Enum\n",
    "\n",
    "\n",
    "class AbstractEnum(Enum):\n",
    "    @classmethod\n",
    "    def default(cls):\n",
    "        raise NotImplementedError\n",
    "\n",
    "    @classmethod\n",
    "    def has_value(cls, value):\n",
    "        return value in cls._value2member_map_\n",
    "\n",
    "    @classmethod\n",
    "    def get_from_value(cls, value):\n",
    "        value = value.strip()\n",
    "        if not value or not cls.has_value(value):\n",
    "            return cls.default()\n",
    "        else:\n",
    "            return cls(value)\n",
    "\n",
    "\n",
    "\n",
    "class ClipType(AbstractEnum):\n",
    "    NORMAL = \"\"\n",
    "    ONE_SHOT = \"one\"\n",
    "\n",
    "    @classmethod\n",
    "    def default(cls):\n",
    "        return ClipType.NORMAL\n",
    "    \n"
   ]
  },
  {
   "cell_type": "code",
   "execution_count": 29,
   "metadata": {},
   "outputs": [
    {
     "data": {
      "text/plain": [
       "<ClipType.NORMAL: ''>"
      ]
     },
     "execution_count": 29,
     "metadata": {},
     "output_type": "execute_result"
    }
   ],
   "source": [
    "t = ClipType.NORMAL\n",
    "ClipType.get_from_value(\"zz\")\n"
   ]
  },
  {
   "cell_type": "code",
   "execution_count": null,
   "metadata": {},
   "outputs": [],
   "source": [
    "e = Ab"
   ]
  },
  {
   "cell_type": "code",
   "execution_count": 1,
   "metadata": {},
   "outputs": [
    {
     "ename": "NameError",
     "evalue": "name 'ClipType' is not defined",
     "output_type": "error",
     "traceback": [
      "\u001b[1;31m---------------------------------------------------------------------------\u001b[0m",
      "\u001b[1;31mNameError\u001b[0m                                 Traceback (most recent call last)",
      "\u001b[1;32m<ipython-input-1-fbba00303827>\u001b[0m in \u001b[0;36m<module>\u001b[1;34m()\u001b[0m\n\u001b[0;32m      1\u001b[0m \u001b[0mname\u001b[0m \u001b[1;33m=\u001b[0m \u001b[1;34m\"one\"\u001b[0m\u001b[1;33m\u001b[0m\u001b[0m\n\u001b[1;32m----> 2\u001b[1;33m \u001b[0mClipType\u001b[0m\u001b[1;33m.\u001b[0m\u001b[0mget_from_value\u001b[0m\u001b[1;33m(\u001b[0m\u001b[0mname\u001b[0m\u001b[1;33m)\u001b[0m \u001b[1;33m==\u001b[0m \u001b[0mClipType\u001b[0m\u001b[1;33m.\u001b[0m\u001b[0mONE_SHOT\u001b[0m\u001b[1;33m\u001b[0m\u001b[0m\n\u001b[0m",
      "\u001b[1;31mNameError\u001b[0m: name 'ClipType' is not defined"
     ]
    }
   ],
   "source": [
    "name = \"one\"\n",
    "ClipType.get_from_value(name) == ClipType.ONE_SHOT"
   ]
  },
  {
   "cell_type": "code",
   "execution_count": 2,
   "metadata": {},
   "outputs": [
    {
     "name": "stdout",
     "output_type": "stream",
     "text": [
      "['t1', 't2', 't3']\n",
      "['t1', 't2', 't3']\n"
     ]
    }
   ],
   "source": [
    "new_tracks = [\"t1\", \"t2\", \"t3\"]\n",
    "old_tracks = [\"t1\", \"t2\", \"tadd1\", \"tadd2\", \"t3\"]\n",
    "\n",
    "\n",
    "def get_old_tracks(arr, index, length):\n",
    "    return arr[0:index] + arr[index + length:]\n",
    "\n",
    "def get_new_tracks(arr, index, length):\n",
    "    return arr[0:index] + arr[index+length:]\n",
    "\n",
    "old_arr = get_new_tracks(old_tracks, 2, 2)\n",
    "print(new_tracks)\n",
    "print(old_arr)"
   ]
  }
 ],
 "metadata": {
  "kernelspec": {
   "display_name": "Python 2",
   "language": "python",
   "name": "python2"
  },
  "language_info": {
   "codemirror_mode": {
    "name": "ipython",
    "version": 2
   },
   "file_extension": ".py",
   "mimetype": "text/x-python",
   "name": "python",
   "nbconvert_exporter": "python",
   "pygments_lexer": "ipython2",
   "version": "2.7.18"
  }
 },
 "nbformat": 4,
 "nbformat_minor": 2
}
