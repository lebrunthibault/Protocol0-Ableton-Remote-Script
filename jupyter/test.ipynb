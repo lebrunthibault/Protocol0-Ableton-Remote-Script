{
 "cells": [
  {
   "cell_type": "code",
   "execution_count": 4,
   "metadata": {},
   "outputs": [
    {
     "data": {
      "text/plain": [
       "'a'"
      ]
     },
     "execution_count": 4,
     "metadata": {},
     "output_type": "execute_result"
    }
   ],
   "source": [
    "from collections import defaultdict, deque\n",
    "\n",
    "\n",
    "callbacks = deque()\n",
    "\n",
    "\n",
    "class Test:\n",
    "    TOTO=2\n",
    "    def __init__(self, val):\n",
    "        self._val = val\n",
    "    def toto(self):\n",
    "        print(self.val)\n",
    "        \n",
    "    def __repr__(self):\n",
    "        return \"repr\"\n",
    "    \n",
    "    def __str__(self):\n",
    "        return \"str\"\n",
    "\n",
    "    @property\n",
    "    def val(self):\n",
    "        return self._val\n",
    "    \n",
    "    @val.setter\n",
    "    def val(self, val):\n",
    "        self._val = val\n",
    "    @property\n",
    "    def test(self):\n",
    "        return 42\n",
    "    \n",
    "    @test.setter\n",
    "    def test(self, test):\n",
    "        print(\"setting test : %s\" % test)\n",
    "\n",
    "test = Test(\"a\")\n",
    "prop = \"val\"\n",
    "getattr(test, prop)"
   ]
  },
  {
   "cell_type": "code",
   "execution_count": 5,
   "metadata": {},
   "outputs": [
    {
     "data": {
      "text/plain": [
       "'drums'"
      ]
     },
     "execution_count": 5,
     "metadata": {},
     "output_type": "execute_result"
    }
   ],
   "source": [
    "from a_protocol_0.enums.AbstractEnum import AbstractEnum\n",
    "\n",
    "class TrackCategoryEnum(AbstractEnum):\n",
    "    DRUMS = \"Drums\"\n",
    "    OTHER = \"Other\"\n",
    "    ALL = \"All\"\n",
    "    \n",
    "TrackCategoryEnum.DRUMS.value.lower()"
   ]
  }
 ],
 "metadata": {
  "kernelspec": {
   "display_name": "Python 2",
   "language": "python",
   "name": "python2"
  },
  "language_info": {
   "codemirror_mode": {
    "name": "ipython",
    "version": 2
   },
   "file_extension": ".py",
   "mimetype": "text/x-python",
   "name": "python",
   "nbconvert_exporter": "python",
   "pygments_lexer": "ipython2",
   "version": "2.7.18"
  }
 },
 "nbformat": 4,
 "nbformat_minor": 2
}
