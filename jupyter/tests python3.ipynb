{
 "cells": [
  {
   "cell_type": "code",
   "execution_count": 1,
   "metadata": {},
   "outputs": [
    {
     "data": {
      "text/plain": [
       "['C:\\\\ProgramData\\\\Ableton\\\\Live 10 Suite\\\\Resources\\\\MIDI Remote Scripts\\\\a_protocol_0\\\\jupyter',\n",
       " 'C:\\\\Users\\\\thiba\\\\AppData\\\\Local\\\\Programs\\\\Python\\\\Python39\\\\python39.zip',\n",
       " 'C:\\\\Users\\\\thiba\\\\AppData\\\\Local\\\\Programs\\\\Python\\\\Python39\\\\DLLs',\n",
       " 'C:\\\\Users\\\\thiba\\\\AppData\\\\Local\\\\Programs\\\\Python\\\\Python39\\\\lib',\n",
       " 'C:\\\\Users\\\\thiba\\\\AppData\\\\Local\\\\Programs\\\\Python\\\\Python39',\n",
       " '',\n",
       " 'C:\\\\Users\\\\thiba\\\\AppData\\\\Roaming\\\\Python\\\\Python39\\\\site-packages',\n",
       " 'C:\\\\Users\\\\thiba\\\\AppData\\\\Roaming\\\\Python\\\\Python39\\\\site-packages\\\\openapi_client-1.0.0-py3.9.egg',\n",
       " 'C:\\\\Users\\\\thiba\\\\AppData\\\\Local\\\\Programs\\\\Python\\\\Python39\\\\lib\\\\site-packages',\n",
       " 'C:\\\\ProgramData\\\\Ableton\\\\Live 10 Suite\\\\Resources\\\\MIDI Remote Scripts',\n",
       " 'C:\\\\Users\\\\thiba\\\\Google Drive\\\\music\\\\dev\\\\Protocol0 System',\n",
       " 'C:\\\\Users\\\\thiba\\\\Google Drive\\\\music\\\\dev\\\\toto3',\n",
       " 'C:\\\\Users\\\\thiba\\\\AppData\\\\Local\\\\Programs\\\\Python\\\\Python39\\\\lib\\\\site-packages\\\\win32',\n",
       " 'C:\\\\Users\\\\thiba\\\\AppData\\\\Local\\\\Programs\\\\Python\\\\Python39\\\\lib\\\\site-packages\\\\win32\\\\lib',\n",
       " 'C:\\\\Users\\\\thiba\\\\AppData\\\\Local\\\\Programs\\\\Python\\\\Python39\\\\lib\\\\site-packages\\\\Pythonwin',\n",
       " 'C:\\\\Users\\\\thiba\\\\AppData\\\\Local\\\\Programs\\\\Python\\\\Python39\\\\lib\\\\site-packages\\\\IPython\\\\extensions',\n",
       " 'C:\\\\Users\\\\thiba\\\\.ipython']"
      ]
     },
     "execution_count": 1,
     "metadata": {},
     "output_type": "execute_result"
    }
   ],
   "source": [
    "import sys\n",
    "sys.path"
   ]
  }
 ],
 "metadata": {
  "kernelspec": {
   "display_name": "Python 3",
   "language": "python",
   "name": "python3"
  },
  "language_info": {
   "codemirror_mode": {
    "name": "ipython",
    "version": 3
   },
   "file_extension": ".py",
   "mimetype": "text/x-python",
   "name": "python",
   "nbconvert_exporter": "python",
   "pygments_lexer": "ipython3",
   "version": "3.9.0"
  }
 },
 "nbformat": 4,
 "nbformat_minor": 2
}
