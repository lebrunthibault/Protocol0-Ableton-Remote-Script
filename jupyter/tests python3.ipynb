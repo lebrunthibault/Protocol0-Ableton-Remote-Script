{
 "cells": [
  {
   "cell_type": "code",
   "execution_count": 3,
   "metadata": {},
   "outputs": [
    {
     "name": "stderr",
     "output_type": "stream",
     "text": [
      "Microsoft GS Wavetable Synth 0\n",
      "REV2_AUX 1\n",
      "REV2_CLK 2\n",
      "P0_IN 3\n",
      "port open : P0_IN 3\n",
      "sent msg to p0: sysex data=(123,34,109,101,116,104,111,100,34,58,32,34,116,101,115,116,34,44,32,34,97,114,103,115,34,58,32,91,93,125) time=0\n"
     ]
    },
    {
     "name": "stdout",
     "output_type": "stream",
     "text": [
      "Sending string to midi output : {\"method\": \"test\", \"args\": []}\n"
     ]
    }
   ],
   "source": [
    "from p0_script_api import DefaultApi\n",
    "api_client = DefaultApi()\n",
    "api_client.test()"
   ]
  }
 ],
 "metadata": {
  "kernelspec": {
   "display_name": "Python 3",
   "language": "python",
   "name": "python3"
  },
  "language_info": {
   "codemirror_mode": {
    "name": "ipython",
    "version": 3
   },
   "file_extension": ".py",
   "mimetype": "text/x-python",
   "name": "python",
   "nbconvert_exporter": "python",
   "pygments_lexer": "ipython3",
   "version": "3.7.3"
  }
 },
 "nbformat": 4,
 "nbformat_minor": 2
}
