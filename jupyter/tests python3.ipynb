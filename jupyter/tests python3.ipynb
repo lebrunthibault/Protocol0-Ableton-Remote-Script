{
 "cells": [
  {
   "cell_type": "code",
   "execution_count": 1,
   "metadata": {},
   "outputs": [
    {
     "name": "stdout",
     "output_type": "stream",
     "text": [
      "took 2.0101916790008545 s\n"
     ]
    }
   ],
   "source": [
    "import requests\n",
    "import time\n",
    "\n",
    "# for i in range(0, 3):\n",
    "start = time.time()\n",
    "requests.get(\"http://localhost:8000/health\")\n",
    "print(f\"took {time.time() - start} s\")"
   ]
  },
  {
   "cell_type": "code",
   "execution_count": 20,
   "metadata": {},
   "outputs": [],
   "source": [
    "from openapi_spec_validator import validate_spec\n",
    "from openapi_spec_validator.readers import read_from_filename\n",
    "\n",
    "spec_dict, spec_url = read_from_filename('../openapi.yaml')\n",
    "\n",
    "# If no exception is raised by validate_spec(), the spec is valid.\n",
    "validate_spec(spec_dict)"
   ]
  },
  {
   "cell_type": "code",
   "execution_count": 3,
   "metadata": {},
   "outputs": [
    {
     "name": "stdout",
     "output_type": "stream",
     "text": [
      "{'a': <class 'int'>}\n",
      "(a: int, b)\n",
      "OrderedDict([('a', <Parameter \"a: int\">), ('b', <Parameter \"b\">)])\n",
      "{'components': {'schemas': {'toto': {}}},\n",
      " 'info': {'description': 'Protocol0 internal remote script API',\n",
      "          'title': 'P0 Internal API',\n",
      "          'version': '1.0.0'},\n",
      " 'openapi': '3.0.2',\n",
      " 'paths': OrderedDict([('/test',\n",
      "                        {'get': {'responses': OrderedDict([('200',\n",
      "                                                            {'description': ''})])}})])}\n"
     ]
    }
   ],
   "source": [
    "from apispec import APISpec\n",
    "from typing import get_type_hints\n",
    "import inspect\n",
    "from pprint import pprint\n",
    "\n",
    "def test(a: int, b):\n",
    "    pass\n",
    "\n",
    "methods = [test]\n",
    "\n",
    "tp = get_type_hints(test)\n",
    "print(tp)\n",
    "\n",
    "\n",
    "spec = APISpec(\n",
    "    title=\"P0 Internal API\",\n",
    "    version=\"1.0.0\",\n",
    "    openapi_version=\"3.0.2\",\n",
    "    info=dict(description=\"Protocol0 internal remote script API\"),\n",
    ")\n",
    "\n",
    "spec.components.schema(\n",
    "    \"toto\",\n",
    "    {\n",
    "\n",
    "    }\n",
    ")\n",
    "\n",
    "for method in methods:\n",
    "    signature = inspect.signature(test)\n",
    "    print(signature)\n",
    "    print(signature.parameters)\n",
    "    spec.path(\n",
    "        path=f\"/{method.__name__}\",\n",
    "        operations=dict(\n",
    "            get=dict(\n",
    "                responses={\n",
    "                    \"200\": {\n",
    "                        \"description\": \"\"\n",
    "                    }\n",
    "                }\n",
    "            ))\n",
    "    )\n",
    "\n",
    "pprint(spec.to_dict())\n",
    "    \n",
    "with open(\"openapi.yaml\", \"w\") as f:\n",
    "    f.write(spec.to_yaml())\n",
    "    \n",
    "# validation\n",
    "from openapi_spec_validator import validate_spec\n",
    "from openapi_spec_validator.readers import read_from_filename\n",
    "\n",
    "spec_dict, spec_url = read_from_filename('openapi.yaml')\n",
    "\n",
    "# If no exception is raised by validate_spec(), the spec is valid.\n",
    "validate_spec(spec_dict)\n"
   ]
  },
  {
   "cell_type": "code",
   "execution_count": null,
   "metadata": {},
   "outputs": [],
   "source": []
  }
 ],
 "metadata": {
  "kernelspec": {
   "display_name": "Python 3",
   "language": "python",
   "name": "python3"
  },
  "language_info": {
   "codemirror_mode": {
    "name": "ipython",
    "version": 3
   },
   "file_extension": ".py",
   "mimetype": "text/x-python",
   "name": "python",
   "nbconvert_exporter": "python",
   "pygments_lexer": "ipython3",
   "version": "3.7.3"
  }
 },
 "nbformat": 4,
 "nbformat_minor": 2
}
