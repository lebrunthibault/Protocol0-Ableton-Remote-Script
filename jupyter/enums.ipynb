{
 "cells": [
  {
   "cell_type": "code",
   "execution_count": 58,
   "metadata": {},
   "outputs": [
    {
     "name": "stdout",
     "output_type": "stream",
     "text": [
      "Reset solo play\n"
     ]
    },
    {
     "data": {
      "text/plain": [
       "'RESTART_SOLO_STOPPED'"
      ]
     },
     "execution_count": 58,
     "metadata": {},
     "output_type": "execute_result"
    }
   ],
   "source": [
    "from enum import Enum\n",
    "from typing import List\n",
    "\n",
    "\n",
    "class AbstractEnum(Enum):\n",
    "    @classmethod\n",
    "    def default(cls):\n",
    "        raise NotImplementedError\n",
    "\n",
    "    @classmethod\n",
    "    def has_key(cls, key):\n",
    "        # type: (str) -> bool\n",
    "        return hasattr(cls, key)\n",
    "\n",
    "    @classmethod\n",
    "    def has_value(cls, value):\n",
    "        # type: (str) -> bool\n",
    "        return value in cls._value2member_map_\n",
    "\n",
    "    @classmethod\n",
    "    def get_from_value(cls, value):\n",
    "        value = value.strip()\n",
    "        if not value or not cls.has_value(value):\n",
    "            return cls.default()\n",
    "        else:\n",
    "            return cls(value)\n",
    "\n",
    "        \n",
    "class PlayMenuEnum(AbstractEnum):\n",
    "    RESTART_SOLO_STOPPED = \"Restart solo stopped\"\n",
    "    RESET_SOLO_PLAY = \"Reset solo play\"\n",
    "    \n",
    "\n",
    "        \n",
    "class TestEnum(AbstractEnum):\n",
    "    TEST = \"toto\"\n",
    "\n",
    "PlayMenuEnum.has_value(PlayMenuEnum.RESET_SOLO_PLAY.name)\n",
    "PlayMenuEnum.has_value(\"Restart solo stopped\")\n",
    "\n",
    "print(PlayMenuEnum.RESET_SOLO_PLAY.value)\n",
    "\n",
    "PlayMenuEnum._value2member_map_\n",
    "\n",
    "PlayMenuEnum(\"Restart solo stopped\").name\n"
   ]
  },
  {
   "cell_type": "code",
   "execution_count": null,
   "metadata": {},
   "outputs": [],
   "source": []
  },
  {
   "cell_type": "code",
   "execution_count": 41,
   "metadata": {},
   "outputs": [
    {
     "data": {
      "text/plain": [
       "'TOTO'"
      ]
     },
     "execution_count": 41,
     "metadata": {},
     "output_type": "execute_result"
    }
   ],
   "source": [
    "from enum import Enum\n",
    "\n",
    "class TestEnum(Enum):\n",
    "    TOTO=\"TOTO\"\n",
    "    \n",
    "TestEnum.TOTO.name"
   ]
  }
 ],
 "metadata": {
  "kernelspec": {
   "display_name": "Python 2",
   "language": "python",
   "name": "python2"
  },
  "language_info": {
   "codemirror_mode": {
    "name": "ipython",
    "version": 2
   },
   "file_extension": ".py",
   "mimetype": "text/x-python",
   "name": "python",
   "nbconvert_exporter": "python",
   "pygments_lexer": "ipython2",
   "version": "2.7.18"
  }
 },
 "nbformat": 4,
 "nbformat_minor": 2
}
