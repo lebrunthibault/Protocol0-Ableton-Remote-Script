{
 "cells": [
  {
   "cell_type": "code",
   "execution_count": null,
   "metadata": {},
   "outputs": [],
   "source": [
    "from functools import partial\n",
    "from __future__ import print_function\n",
    "\n",
    "from a_protocol_0.sequence.Sequence import Sequence\n",
    "from a_protocol_0 import Protocol0, EmptyModule\n",
    "\n",
    "p0 = Protocol0(EmptyModule(is_false=False), init_song=False)\n",
    "\n",
    "def seq_creator(i):\n",
    "    if i == 0:\n",
    "        return None\n",
    "    return Sequence().add(partial(seq_creator, i - 1), name=\"seq %s\" % i).done()\n",
    "\n",
    "def check_function(res):\n",
    "    print(\"check and return %s\" % res)\n",
    "    return res\n",
    "\n",
    "def check_seq(res):\n",
    "    seq = Sequence(name=\"check seq\")\n",
    "    seq.add(partial(check_function, res))\n",
    "    return seq.done()\n",
    "\n",
    "def inner_print_seq(message):\n",
    "    seq = Sequence(name=\"inner print seq\")\n",
    "    seq.add(lambda: print(message))\n",
    "    return seq.done()\n",
    "\n",
    "def print_seq(message):\n",
    "    seq = Sequence(name=\"print seq\")\n",
    "    seq.add(partial(inner_print_seq, message))\n",
    "    return seq.done()\n",
    "\n",
    "with p0.component_guard():\n",
    "#     seq = Sequence(name=\"test seq\")\n",
    "#     seq.add(partial(seq_creator, 2))\n",
    "#     seq.done()()\n",
    "#     check_seq(True)()\n",
    "#     print(\"------\")\n",
    "    \n",
    "#     seq = Sequence(name=\"main\").add(partial(print_seq, \"titi messaged\"), do_if=partial(check_seq, True))\n",
    "#     seq.done()()\n",
    "\n",
    "    seq = p0.protocol0_song.select_track(EmptyModule())\n",
    "    print(seq._auto_start)\n",
    "    \n",
    "# p0.actionManager.action_scroll_tracks(go_next=True)\n"
   ]
  },
  {
   "cell_type": "code",
   "execution_count": 4,
   "metadata": {},
   "outputs": [
    {
     "name": "stdout",
     "output_type": "stream",
     "text": [
      "P0 - info: Protocol0 script loaded\n",
      "True\n",
      "SequenceState.STARTED\n",
      "True\n"
     ]
    }
   ],
   "source": [
    "from a_protocol_0.sequence.Sequence import Sequence\n",
    "from __future__ import print_function\n",
    "from a_protocol_0 import Protocol0, EmptyModule\n",
    "from a_protocol_0.sequence.SequenceState import SequenceState, SequenceLogLevel\n",
    "\n",
    "\n",
    "p0 = Protocol0(EmptyModule(is_false=False), init_song=False)\n",
    "with p0.component_guard():\n",
    "    seq = Sequence()\n",
    "    seq._state_machine.state = SequenceState.UN_STARTED\n",
    "    print(seq._state_machine.dispatch(\"start\"))\n",
    "    print(seq._state_machine.state)\n",
    "    print(seq._state_machine.state == SequenceState.STARTED) \n",
    "\n"
   ]
  },
  {
   "cell_type": "code",
   "execution_count": null,
   "metadata": {},
   "outputs": [],
   "source": []
  },
  {
   "cell_type": "code",
   "execution_count": 4,
   "metadata": {},
   "outputs": [
    {
     "data": {
      "text/plain": [
       "<SequenceState.STARTED: 'STARTED'>"
      ]
     },
     "execution_count": 4,
     "metadata": {},
     "output_type": "execute_result"
    }
   ],
   "source": [
    "from a_protocol_0.sequence.SequenceState import SequenceState, SequenceLogLevel\n",
    "from transitions import Machine\n",
    "\n",
    "transitions = [\n",
    "        ['start', SequenceState.UN_STARTED, SequenceState.STARTED],\n",
    "        ['start', SequenceState.PAUSED, SequenceState.STARTED],\n",
    "        ['pause', SequenceState.STARTED, SequenceState.PAUSED],\n",
    "        ['terminate', SequenceState.UN_STARTED, SequenceState.TERMINATED],\n",
    "        ['terminate', SequenceState.STARTED, SequenceState.TERMINATED],\n",
    "        ['terminate', SequenceState.PAUSED, SequenceState.TERMINATED],\n",
    "        ['error', '*', SequenceState.ERRORED]\n",
    "    ]\n",
    "\n",
    "class Test():\n",
    "    pass\n",
    "\n",
    "test = Test()\n",
    "\n",
    "machine = Machine(model=test, states=SequenceState, transitions=transitions,\n",
    "                            initial=SequenceState.UN_STARTED)\n",
    "\n",
    "\n",
    "machine.dispatch(\"start\")\n",
    "test.state\n"
   ]
  }
 ],
 "metadata": {
  "kernelspec": {
   "display_name": "Python 2",
   "language": "python",
   "name": "python2"
  },
  "language_info": {
   "codemirror_mode": {
    "name": "ipython",
    "version": 2
   },
   "file_extension": ".py",
   "mimetype": "text/x-python",
   "name": "python",
   "nbconvert_exporter": "python",
   "pygments_lexer": "ipython2",
   "version": "2.7.18"
  }
 },
 "nbformat": 4,
 "nbformat_minor": 2
}
