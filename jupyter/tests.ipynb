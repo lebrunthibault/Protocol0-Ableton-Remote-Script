{
 "cells": [
  {
   "cell_type": "code",
   "execution_count": 1,
   "metadata": {},
   "outputs": [
    {
     "name": "stdout",
     "output_type": "stream",
     "text": [
      "P0 - info: Protocol0 script loaded\n",
      "InstrumentDrumRack\n",
      "InstrumentMinitaur\n",
      "InstrumentProphet\n",
      "InstrumentSerum\n",
      "InstrumentSimpler\n"
     ]
    },
    {
     "data": {
      "text/plain": [
       "[a_protocol_0.devices.InstrumentDrumRack.InstrumentDrumRack,\n",
       " a_protocol_0.devices.InstrumentMinitaur.InstrumentMinitaur,\n",
       " a_protocol_0.devices.InstrumentProphet.InstrumentProphet,\n",
       " a_protocol_0.devices.InstrumentSerum.InstrumentSerum,\n",
       " a_protocol_0.devices.InstrumentSimpler.InstrumentSimpler]"
      ]
     },
     "execution_count": 1,
     "metadata": {},
     "output_type": "execute_result"
    }
   ],
   "source": [
    "from a_protocol_0 import Protocol0, EmptyModule\n",
    "\n",
    "p0 = Protocol0(EmptyModule(is_false=False), init_song=False)\n",
    "\n",
    "from a_protocol_0.devices.AbstractInstrument import AbstractInstrument\n",
    "\n",
    "AbstractInstrument.instrument_classes()"
   ]
  },
  {
   "cell_type": "code",
   "execution_count": null,
   "metadata": {},
   "outputs": [],
   "source": []
  },
  {
   "cell_type": "code",
   "execution_count": null,
   "metadata": {},
   "outputs": [],
   "source": []
  }
 ],
 "metadata": {
  "kernelspec": {
   "display_name": "Python 2",
   "language": "python",
   "name": "python2"
  },
  "language_info": {
   "name": ""
  }
 },
 "nbformat": 4,
 "nbformat_minor": 2
}
