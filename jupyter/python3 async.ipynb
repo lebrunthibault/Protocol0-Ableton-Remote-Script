{
 "cells": [
  {
   "cell_type": "code",
   "execution_count": 5,
   "metadata": {},
   "outputs": [
    {
     "name": "stdout",
     "output_type": "stream",
     "text": [
      "Task A: Compute factorial(2), currently i=2...\n",
      "starting recording\n",
      "Task A: factorial(2) = 2\n",
      "[2, \"Bonjour je m'appelle Thibault et j'habite à Paris\"]\n"
     ]
    }
   ],
   "source": [
    "import asyncio\n",
    "\n",
    "from lib.speech_recognition import SpeechRecognition\n",
    "\n",
    "speech_recognition = SpeechRecognition()\n",
    "\n",
    "async def vocal():\n",
    "    await speech_recognition.get_input()\n",
    "\n",
    "\n",
    "async def factorial(name, number):\n",
    "    f = 1\n",
    "    for i in range(2, number + 1):\n",
    "        print(f\"Task {name}: Compute factorial({number}), currently i={i}...\")\n",
    "        await asyncio.sleep(1)\n",
    "        f *= i\n",
    "    print(f\"Task {name}: factorial({number}) = {f}\")\n",
    "    return f\n",
    "\n",
    "async def main():\n",
    "    # Schedule three calls *concurrently*:\n",
    "    L = await asyncio.gather(\n",
    "        factorial(\"A\", 2),\n",
    "#         vocal()\n",
    "         speech_recognition.get_input()\n",
    "#         factorial(\"B\", 3),\n",
    "#         factorial(\"C\", 4),\n",
    "    )\n",
    "    print(L)\n",
    "\n",
    "await main()\n",
    "# speech_recognition.get_input()\n",
    "\n",
    "# asyncio.run(main())"
   ]
  }
 ],
 "metadata": {
  "kernelspec": {
   "display_name": "Python 3",
   "language": "python",
   "name": "python3"
  },
  "language_info": {
   "codemirror_mode": {
    "name": "ipython",
    "version": 3
   },
   "file_extension": ".py",
   "mimetype": "text/x-python",
   "name": "python",
   "nbconvert_exporter": "python",
   "pygments_lexer": "ipython3",
   "version": "3.7.3"
  }
 },
 "nbformat": 4,
 "nbformat_minor": 2
}
