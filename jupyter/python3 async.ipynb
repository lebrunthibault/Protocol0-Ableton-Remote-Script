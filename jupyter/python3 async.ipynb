{
 "cells": [
  {
   "cell_type": "code",
   "execution_count": 2,
   "metadata": {},
   "outputs": [
    {
     "name": "stderr",
     "output_type": "stream",
     "text": [
      "2021-10-14 16:07:15.145 | INFO     | lib.window.find_window:find_window_handle_by_enum:36 - midi server : Window handle not found\n",
      "2021-10-14 16:07:15.146 | INFO     | lib.window.find_window:find_window_handle_by_enum:36 - speech : Window handle not found\n"
     ]
    }
   ],
   "source": [
    "from lib.window.terminal import kill_system_terminal_windows\n",
    "kill_system_terminal_windows()"
   ]
  }
 ],
 "metadata": {
  "kernelspec": {
   "display_name": "Python 3 (ipykernel)",
   "language": "python",
   "name": "python3"
  },
  "language_info": {
   "codemirror_mode": {
    "name": "ipython",
    "version": 3
   },
   "file_extension": ".py",
   "mimetype": "text/x-python",
   "name": "python",
   "nbconvert_exporter": "python",
   "pygments_lexer": "ipython3",
   "version": "3.7.3"
  }
 },
 "nbformat": 4,
 "nbformat_minor": 4
}
