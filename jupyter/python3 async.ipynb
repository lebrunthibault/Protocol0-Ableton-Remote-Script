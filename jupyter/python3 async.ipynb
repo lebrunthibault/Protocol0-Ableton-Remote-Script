{
 "cells": [
  {
   "cell_type": "code",
   "execution_count": 2,
   "metadata": {},
   "outputs": [
    {
     "name": "stderr",
     "output_type": "stream",
     "text": [
      "2021-11-13 13:43:07.890 | INFO     | api.midi_app:call_system_method:56 - {'method': 'ping', 'args': {}}\n",
      "2021-11-13 13:43:07.892 | INFO     | api.midi_app:call_system_method:58 - P0_SYSTEM_LOOPBACK 12\n",
      "2021-11-13 13:43:07.893 | INFO     | api.midi_app:call_system_method:61 - <open output 'P0_SYSTEM_LOOPBACK 12' (RtMidi/WINDOWS_MM)>\n",
      "2021-11-13 13:43:07.894 | DEBUG    | api.midi_app:_make_sysex_message_from_dict:130 - Sending string to System midi output : {\"method\": \"ping\", \"args\": {}}\n",
      "2021-11-13 13:43:07.894 | INFO     | api.midi_app:call_system_method:63 - sysex data=(123,34,109,101,116,104,111,100,34,58,32,34,112,105,110,103,34,44,32,34,97,114,103,115,34,58,32,123,125,125) time=0\n"
     ]
    }
   ],
   "source": [
    "from api.midi_app import call_system_method\n",
    "\n",
    "def ping():\n",
    "    pass\n",
    "call_system_method(ping)\n"
   ]
  },
  {
   "cell_type": "code",
   "execution_count": 1,
   "metadata": {},
   "outputs": [
    {
     "name": "stderr",
     "output_type": "stream",
     "text": [
      "2021-11-13 15:33:05.560 | INFO     | p0_script_api.api.default_api:ping:82 - client is not live, storing message {'method': 'ping', 'args': {}}\n",
      "2021-11-13 15:33:05.681 | INFO     | p0_script_api.api.default_api:set_live:34 - sending awaiting message {'method': 'ping', 'args': {}}\n",
      "2021-11-13 15:33:05.741 | DEBUG    | api.midi_app:_make_sysex_message_from_dict:105 - Sending string to System midi output : {\"method\": \"ping\", \"args\": {}}\n"
     ]
    }
   ],
   "source": [
    "from api.p0_script_api_client import protocol0\n",
    "\n",
    "protocol0.ping()\n",
    "protocol0.set_live()"
   ]
  }
 ],
 "metadata": {
  "kernelspec": {
   "display_name": "Python 3 (ipykernel)",
   "language": "python",
   "name": "python3"
  },
  "language_info": {
   "codemirror_mode": {
    "name": "ipython",
    "version": 3
   },
   "file_extension": ".py",
   "mimetype": "text/x-python",
   "name": "python",
   "nbconvert_exporter": "python",
   "pygments_lexer": "ipython3",
   "version": "3.7.3"
  }
 },
 "nbformat": 4,
 "nbformat_minor": 4
}
