{
 "cells": [
  {
   "cell_type": "code",
   "execution_count": 1,
   "metadata": {},
   "outputs": [
    {
     "ename": "SyntaxError",
     "evalue": "no binding for nonlocal 'reloaded_at' found (Temp/ipykernel_13608/2658613730.py, line 5)",
     "output_type": "error",
     "traceback": [
      "\u001b[1;36m  File \u001b[1;32m\"C:\\Users\\thiba\\AppData\\Local\\Temp/ipykernel_13608/2658613730.py\"\u001b[1;36m, line \u001b[1;32m5\u001b[0m\n\u001b[1;33m    nonlocal reloaded_at\u001b[0m\n\u001b[1;37m    ^\u001b[0m\n\u001b[1;31mSyntaxError\u001b[0m\u001b[1;31m:\u001b[0m no binding for nonlocal 'reloaded_at' found\n"
     ]
    }
   ],
   "source": [
    "import time\n",
    "reloaded_at = None\n",
    "\n",
    "def store():\n",
    "    nonlocal reloaded_at\n",
    "    reloaded_at = time.time()\n",
    "    \n",
    "def get():\n",
    "    return reloaded_at\n",
    "\n",
    "store()\n",
    "print(get())"
   ]
  },
  {
   "cell_type": "code",
   "execution_count": 12,
   "metadata": {},
   "outputs": [
    {
     "ename": "TypeError",
     "evalue": "__init__() got an unexpected keyword argument 'count'",
     "output_type": "error",
     "traceback": [
      "\u001b[1;31m---------------------------------------------------------------------------\u001b[0m",
      "\u001b[1;31mTypeError\u001b[0m                                 Traceback (most recent call last)",
      "\u001b[1;32m~\\AppData\\Local\\Temp/ipykernel_13608/2650287714.py\u001b[0m in \u001b[0;36m<module>\u001b[1;34m\u001b[0m\n\u001b[0;32m      8\u001b[0m \u001b[1;33m\u001b[0m\u001b[0m\n\u001b[0;32m      9\u001b[0m \u001b[1;33m\u001b[0m\u001b[0m\n\u001b[1;32m---> 10\u001b[1;33m \u001b[0msession\u001b[0m \u001b[1;33m=\u001b[0m \u001b[0mAbletonSetProfilingSession\u001b[0m\u001b[1;33m(\u001b[0m\u001b[0mcount\u001b[0m\u001b[1;33m=\u001b[0m\u001b[1;36m1\u001b[0m\u001b[1;33m)\u001b[0m\u001b[1;33m\u001b[0m\u001b[1;33m\u001b[0m\u001b[0m\n\u001b[0m\u001b[0;32m     11\u001b[0m \u001b[0msession\u001b[0m\u001b[1;33m.\u001b[0m\u001b[0mmeasurement_count\u001b[0m \u001b[1;33m+=\u001b[0m \u001b[1;36m1\u001b[0m\u001b[1;33m\u001b[0m\u001b[1;33m\u001b[0m\u001b[0m\n\u001b[0;32m     12\u001b[0m \u001b[0mprint\u001b[0m\u001b[1;33m(\u001b[0m\u001b[0msession\u001b[0m\u001b[1;33m.\u001b[0m\u001b[0mcount\u001b[0m\u001b[1;33m)\u001b[0m\u001b[1;33m\u001b[0m\u001b[1;33m\u001b[0m\u001b[0m\n",
      "\u001b[1;31mTypeError\u001b[0m: __init__() got an unexpected keyword argument 'count'"
     ]
    }
   ],
   "source": [
    "from dataclasses import dataclass\n",
    "\n",
    "@dataclass()\n",
    "class AbletonSetProfilingSession():\n",
    "    count = 5\n",
    "\n",
    "    measurement_count = 0\n",
    "    \n",
    "\n",
    "session = AbletonSetProfilingSession(count=1)\n",
    "session.measurement_count += 1\n",
    "print(session.count)\n",
    "\n",
    "durations = [1.2322, 2.3]\n",
    "print([\"%.2f\" % d for d in durations])\n"
   ]
  },
  {
   "cell_type": "code",
   "execution_count": 14,
   "metadata": {},
   "outputs": [
    {
     "name": "stderr",
     "output_type": "stream",
     "text": [
      "2021-11-12 18:55:48.039 | ERROR    | lib.window.window:focus_window:32 - (5, 'SetForegroundWindow', 'Access is denied.')\n",
      "2021-11-12 18:55:48.567 | INFO     | lib.keys:send_keys:10 - sending keys: ^n\n",
      "2021-11-12 18:55:48.572 | INFO     | lib.keys:send_keys:10 - sending keys: {Right}\n",
      "2021-11-12 18:55:48.574 | INFO     | lib.keys:send_keys:10 - sending keys: {Right}\n",
      "2021-11-12 18:55:48.575 | INFO     | lib.keys:send_keys:10 - sending keys: {Right}\n",
      "2021-11-12 18:55:48.577 | INFO     | lib.keys:send_keys:10 - sending keys: {Right}\n",
      "2021-11-12 18:55:48.629 | INFO     | lib.keys:send_keys:10 - sending keys: {Enter}\n",
      "2021-11-12 18:55:48.631 | INFO     | lib.keys:send_keys:10 - sending keys: {Enter}\n"
     ]
    }
   ],
   "source": [
    "from lib.ableton_set_profiling.ableton_set_profiling_session import AbletonSetProfilingSession\n",
    "\n",
    "profiling_session = AbletonSetProfilingSession()\n",
    "profiling_session.start_measurement()"
   ]
  }
 ],
 "metadata": {
  "kernelspec": {
   "display_name": "Python 3 (ipykernel)",
   "language": "python",
   "name": "python3"
  },
  "language_info": {
   "codemirror_mode": {
    "name": "ipython",
    "version": 3
   },
   "file_extension": ".py",
   "mimetype": "text/x-python",
   "name": "python",
   "nbconvert_exporter": "python",
   "pygments_lexer": "ipython3",
   "version": "3.7.3"
  }
 },
 "nbformat": 4,
 "nbformat_minor": 4
}
