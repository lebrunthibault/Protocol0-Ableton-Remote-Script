{
 "cells": [
  {
   "cell_type": "code",
   "execution_count": 2,
   "metadata": {},
   "outputs": [
    {
     "data": {
      "text/plain": [
       "['',\n",
       " 'C:\\\\WINDOWS\\\\SYSTEM32\\\\python27.zip',\n",
       " 'c:\\\\python27\\\\DLLs',\n",
       " 'c:\\\\python27\\\\lib',\n",
       " 'c:\\\\python27\\\\lib\\\\plat-win',\n",
       " 'c:\\\\python27\\\\lib\\\\lib-tk',\n",
       " 'c:\\\\python27',\n",
       " 'c:\\\\python27\\\\lib\\\\site-packages',\n",
       " 'C:\\\\ProgramData\\\\Ableton\\\\Live 10 Suite\\\\Resources\\\\MIDI Remote Scripts',\n",
       " 'C:\\\\Users\\\\thiba\\\\Google Drive\\\\music\\\\dev\\\\toto2',\n",
       " 'c:\\\\python27\\\\lib\\\\site-packages\\\\win32',\n",
       " 'c:\\\\python27\\\\lib\\\\site-packages\\\\win32\\\\lib',\n",
       " 'c:\\\\python27\\\\lib\\\\site-packages\\\\Pythonwin',\n",
       " 'c:\\\\python27\\\\lib\\\\site-packages\\\\IPython\\\\extensions',\n",
       " 'C:\\\\Users\\\\thiba\\\\.ipython']"
      ]
     },
     "execution_count": 2,
     "metadata": {},
     "output_type": "execute_result"
    }
   ],
   "source": [
    "import sys\n",
    "sys.path"
   ]
  },
  {
   "cell_type": "code",
   "execution_count": 1,
   "metadata": {},
   "outputs": [
    {
     "name": "stdout",
     "output_type": "stream",
     "text": [
      "c:\\python27\\lib\\site-packages\\openapi_client\\__init__.pyc\n",
      "2\n"
     ]
    }
   ],
   "source": [
    "import openapi_client\n",
    "print(openapi_client.__file__)\n",
    "client = openapi_client.ApiClient()\n",
    "print(client.configuration.retries)"
   ]
  }
 ],
 "metadata": {
  "kernelspec": {
   "display_name": "Python 2",
   "language": "python",
   "name": "python2"
  },
  "language_info": {
   "codemirror_mode": {
    "name": "ipython",
    "version": 2
   },
   "file_extension": ".py",
   "mimetype": "text/x-python",
   "name": "python",
   "nbconvert_exporter": "python",
   "pygments_lexer": "ipython2",
   "version": "2.7.18"
  }
 },
 "nbformat": 4,
 "nbformat_minor": 2
}
