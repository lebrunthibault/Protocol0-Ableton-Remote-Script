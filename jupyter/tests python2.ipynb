{
 "cells": [
  {
   "cell_type": "code",
   "execution_count": 1,
   "metadata": {},
   "outputs": [
    {
     "name": "stdout",
     "output_type": "stream",
     "text": [
      "True\n"
     ]
    }
   ],
   "source": [
    "res = {\n",
    "    \"class_instance\": None\n",
    "}\n",
    "\n",
    "def class_decorator(cls):\n",
    "   for name, method in cls.__dict__.iteritems():\n",
    "        if hasattr(method, \"use_class\"):\n",
    "            # do something with the method and class\n",
    "            res[\"class_instance\"] = cls\n",
    "#             print(name, cls)\n",
    "   return cls\n",
    "\n",
    "def method_decorator(view):\n",
    "    # mark the method as something that requires view's class\n",
    "    view.use_class = True\n",
    "    return view\n",
    "\n",
    "@class_decorator\n",
    "class ModelA(object):\n",
    "    @method_decorator\n",
    "    def a_method(self):\n",
    "        # do some stuff\n",
    "        print(\"a_method\")\n",
    "        pass\n",
    "    \n",
    "obj = ModelA()\n",
    "print(res[\"class_instance\"] == obj.__class__)"
   ]
  },
  {
   "cell_type": "code",
   "execution_count": 8,
   "metadata": {},
   "outputs": [
    {
     "ename": "NameError",
     "evalue": "name 'classproperty' is not defined",
     "output_type": "error",
     "traceback": [
      "\u001b[1;31m---------------------------------------------------------------------------\u001b[0m",
      "\u001b[1;31mNameError\u001b[0m                                 Traceback (most recent call last)",
      "\u001b[1;32m<ipython-input-8-ea6d09b4412e>\u001b[0m in \u001b[0;36m<module>\u001b[1;34m()\u001b[0m\n\u001b[0;32m     39\u001b[0m \u001b[1;33m\u001b[0m\u001b[0m\n\u001b[0;32m     40\u001b[0m \u001b[1;33m\u001b[0m\u001b[0m\n\u001b[1;32m---> 41\u001b[1;33m \u001b[1;33m@\u001b[0m\u001b[0msong_synchronizable_class\u001b[0m\u001b[1;33m\u001b[0m\u001b[0m\n\u001b[0m\u001b[0;32m     42\u001b[0m \u001b[1;32mclass\u001b[0m \u001b[0mTest\u001b[0m\u001b[1;33m(\u001b[0m\u001b[1;33m)\u001b[0m\u001b[1;33m:\u001b[0m\u001b[1;33m\u001b[0m\u001b[0m\n\u001b[0;32m     43\u001b[0m     \u001b[0mTOTO\u001b[0m \u001b[1;33m=\u001b[0m \u001b[1;36m2\u001b[0m\u001b[1;33m\u001b[0m\u001b[0m\n",
      "\u001b[1;32m<ipython-input-8-ea6d09b4412e>\u001b[0m in \u001b[0;36mTest\u001b[1;34m()\u001b[0m\n\u001b[0;32m     48\u001b[0m         \u001b[0mcls\u001b[0m\u001b[1;33m.\u001b[0m\u001b[0mTOTO\u001b[0m \u001b[1;33m=\u001b[0m \u001b[0mval\u001b[0m\u001b[1;33m\u001b[0m\u001b[0m\n\u001b[0;32m     49\u001b[0m \u001b[1;33m\u001b[0m\u001b[0m\n\u001b[1;32m---> 50\u001b[1;33m     \u001b[1;33m@\u001b[0m\u001b[0mclassproperty\u001b[0m\u001b[1;33m\u001b[0m\u001b[0m\n\u001b[0m\u001b[0;32m     51\u001b[0m     \u001b[1;32mdef\u001b[0m \u001b[0mtoto\u001b[0m\u001b[1;33m(\u001b[0m\u001b[1;33m)\u001b[0m\u001b[1;33m:\u001b[0m\u001b[1;33m\u001b[0m\u001b[0m\n\u001b[0;32m     52\u001b[0m         \u001b[1;32mreturn\u001b[0m \u001b[1;36m42\u001b[0m\u001b[1;33m\u001b[0m\u001b[0m\n",
      "\u001b[1;31mNameError\u001b[0m: name 'classproperty' is not defined"
     ]
    }
   ],
   "source": [
    "from functools import wraps\n",
    "import inspect\n",
    "storage = {}\n",
    "\n",
    "def class_attributes(_class):\n",
    "    # type: (Any) -> Dict\n",
    "    attributes = {}\n",
    "    for key, value in inspect.getmembers(_class):\n",
    "        if not key.startswith('_') and not inspect.ismethod(value) and not isinstance(value, property):\n",
    "            attributes[key] = value\n",
    "    return attributes\n",
    "\n",
    "def restore():\n",
    "    for cls, attributes in storage.items():\n",
    "        for key, value in attributes.items():\n",
    "            setattr(cls, key, value)\n",
    "\n",
    "SYNCHRONIZABLE_CLASSE_NAMES = set()\n",
    "\n",
    "\n",
    "def song_synchronizable_class(cls):\n",
    "    cls_fqdn = \"%s.%s\" % (cls.__module__, cls.__name__)\n",
    "    print(\"got class %s\" % cls_fqdn)\n",
    "    SYNCHRONIZABLE_CLASSE_NAMES.add(cls_fqdn)\n",
    "    return cls\n",
    "            \n",
    "def save_to_song_data(func):\n",
    "    # type: (Func) -> Func\n",
    "    @wraps(func)\n",
    "    def decorate(*a, **k):\n",
    "        # type: (Any, Any) -> None\n",
    "        func(*a, **k)\n",
    "        cls = a[0]\n",
    "        attributes = class_attributes(cls)\n",
    "        storage[cls] = attributes\n",
    "#         print(attributes)\n",
    "\n",
    "    return decorate\n",
    "\n",
    "\n",
    "@song_synchronizable_class\n",
    "class Test():\n",
    "    TOTO = 2\n",
    "    TITI = \"titi\"\n",
    "    @classmethod\n",
    "    @save_to_song_data\n",
    "    def set_toto(cls, val):\n",
    "        cls.TOTO = val\n",
    "    \n",
    "    @classproperty\n",
    "    def toto():\n",
    "        return 42\n",
    "        \n",
    "    \n",
    "Test.set_toto(3)\n",
    "Test.set_toto(4)\n",
    "\n",
    "Test.TOTO = \"toto\"\n",
    "Test.TITI = 42\n",
    "print(storage)\n",
    "print(Test.TOTO, Test.TITI)\n",
    "restore()\n",
    "print(Test.TOTO, Test.TITI)\n",
    "\n",
    "Test.__name__\n",
    "\n",
    "int(Test.toto)"
   ]
  },
  {
   "cell_type": "code",
   "execution_count": null,
   "metadata": {},
   "outputs": [],
   "source": []
  },
  {
   "cell_type": "code",
   "execution_count": 80,
   "metadata": {},
   "outputs": [
    {
     "name": "stdout",
     "output_type": "stream",
     "text": [
      "<class 'protocol0.interface.InterfaceState.InterfaceState'>\n",
      "protocol0.interface.InterfaceState.InterfaceState\n",
      "<class 'protocol0.interface.InterfaceState.InterfaceState'>\n"
     ]
    },
    {
     "data": {
      "text/plain": [
       "'Test'"
      ]
     },
     "execution_count": 80,
     "metadata": {},
     "output_type": "execute_result"
    }
   ],
   "source": [
    "from protocol0.interface.InterfaceState import InterfaceState\n",
    "\n",
    "from pydoc import locate, classname\n",
    "my_class = locate('protocol0.interface.InterfaceState.InterfaceState')\n",
    "print(my_class)\n",
    "\n",
    "full_name = \"%s.%s\" % (InterfaceState.__module__, InterfaceState.__name__)\n",
    "print(full_name)\n",
    "print(locate(full_name))\n",
    "\n",
    "classname(Test, \"__main__\")"
   ]
  }
 ],
 "metadata": {
  "kernelspec": {
   "display_name": "Python 2",
   "language": "python",
   "name": "python2"
  },
  "language_info": {
   "codemirror_mode": {
    "name": "ipython",
    "version": 2
   },
   "file_extension": ".py",
   "mimetype": "text/x-python",
   "name": "python",
   "nbconvert_exporter": "python",
   "pygments_lexer": "ipython2",
   "version": "2.7.18"
  }
 },
 "nbformat": 4,
 "nbformat_minor": 4
}
