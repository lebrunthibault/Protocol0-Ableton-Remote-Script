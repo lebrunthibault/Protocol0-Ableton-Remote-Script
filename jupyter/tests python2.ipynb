{
 "cells": [
  {
   "cell_type": "code",
   "execution_count": 1,
   "metadata": {},
   "outputs": [
    {
     "name": "stdout",
     "output_type": "stream",
     "text": [
      "True\n",
      "None\n"
     ]
    }
   ],
   "source": [
    "res = {\n",
    "    \"class_instance\": None\n",
    "}\n",
    "\n",
    "def class_decorator(cls):\n",
    "   for name, method in cls.__dict__.iteritems():\n",
    "        if hasattr(method, \"use_class\"):\n",
    "            # do something with the method and class\n",
    "            res[\"class_instance\"] = cls\n",
    "#             print(name, cls)\n",
    "   return cls\n",
    "\n",
    "def method_decorator(view):\n",
    "    # mark the method as something that requires view's class\n",
    "    view.use_class = True\n",
    "    return view\n",
    "\n",
    "@class_decorator\n",
    "class ModelA(object):\n",
    "    @method_decorator\n",
    "    def a_method(self):\n",
    "        # do some stuff\n",
    "        print(\"a_method\")\n",
    "        pass\n",
    "    \n",
    "obj = ModelA()\n",
    "print(res[\"class_instance\"] == obj.__class__)\n",
    "from pydoc import locate\n",
    "a = locate(\"toto\")\n",
    "print(a)"
   ]
  },
  {
   "cell_type": "code",
   "execution_count": 19,
   "metadata": {},
   "outputs": [
    {
     "name": "stdout",
     "output_type": "stream",
     "text": [
      "unknown <function titi_listener at 0x069AC8B0>.titi_listener (cwc 111052016)\n",
      "[step Test.toto (and wait for listener call : unknown <function titi_listener at 0x069AC8B0>.titi_listener (cwc 111052016))]\n"
     ]
    }
   ],
   "source": [
    "from protocol0.utils.utils import _has_callback_queue, is_lambda, get_callable_repr, nop, get_class_name_from_method\n",
    "from protocol0.sequence.Sequence import Sequence\n",
    "from protocol0 import EmptyModule, create_instance\n",
    "from protocol0.utils.callback_descriptor import CallableWithCallbacks\n",
    "from pydoc import classname\n",
    "from qualname import qualname\n",
    "\n",
    "p0 = create_instance(EmptyModule(is_false=False))\n",
    "\n",
    "def titi_listener():\n",
    "    pass\n",
    "\n",
    "class Test():\n",
    "    def toto():\n",
    "        pass\n",
    "    \n",
    "seq = Sequence()\n",
    "# print(get_callable_repr(seq.add))\n",
    "cwc = CallableWithCallbacks(titi_listener, True)\n",
    "\n",
    "seq.add(Test().toto, complete_on=cwc)\n",
    "print(get_callable_repr(cwc))\n",
    "print(get_callable_repr(seq._steps[0]))\n",
    "\n",
    "def print_info(obj):\n",
    "    print(get_class_name_from_method(obj))\n",
    "    print(classname(obj, \"\"))\n",
    "    print(qualname(obj))\n",
    "    \n",
    "    \n",
    "# print(\"---\")\n",
    "# print_info(titi_listener)\n",
    "# print_info(Test().toto)"
   ]
  },
  {
   "cell_type": "code",
   "execution_count": 18,
   "metadata": {},
   "outputs": [
    {
     "ename": "SubjectSlotError",
     "evalue": "Subject <object object at 0x04EF4BF0> missing \"add\" method for event: has_clip",
     "output_type": "error",
     "traceback": [
      "\u001b[1;31m---------------------------------------------------------------------------\u001b[0m",
      "\u001b[1;31mSubjectSlotError\u001b[0m                          Traceback (most recent call last)",
      "\u001b[1;32m<ipython-input-18-dfd6995307c8>\u001b[0m in \u001b[0;36m<module>\u001b[1;34m()\u001b[0m\n\u001b[0;32m      1\u001b[0m \u001b[1;32mfrom\u001b[0m \u001b[0mprotocol0\u001b[0m\u001b[1;33m.\u001b[0m\u001b[0mlom\u001b[0m\u001b[1;33m.\u001b[0m\u001b[0mclip_slot\u001b[0m\u001b[1;33m.\u001b[0m\u001b[0mClipSlot\u001b[0m \u001b[1;32mimport\u001b[0m \u001b[0mClipSlot\u001b[0m\u001b[1;33m\u001b[0m\u001b[0m\n\u001b[0;32m      2\u001b[0m \u001b[1;33m\u001b[0m\u001b[0m\n\u001b[1;32m----> 3\u001b[1;33m \u001b[0mcs\u001b[0m \u001b[1;33m=\u001b[0m \u001b[0mClipSlot\u001b[0m\u001b[1;33m.\u001b[0m\u001b[0mmake\u001b[0m\u001b[1;33m(\u001b[0m\u001b[0mobject\u001b[0m\u001b[1;33m(\u001b[0m\u001b[1;33m)\u001b[0m\u001b[1;33m,\u001b[0m \u001b[0mobject\u001b[0m\u001b[1;33m(\u001b[0m\u001b[1;33m)\u001b[0m\u001b[1;33m)\u001b[0m\u001b[1;33m\u001b[0m\u001b[0m\n\u001b[0m",
      "\u001b[1;32mC:\\ProgramData\\Ableton\\Live 10 Suite\\Resources\\MIDI Remote Scripts\\protocol0\\lom\\clip_slot\\ClipSlot.pyc\u001b[0m in \u001b[0;36mmake\u001b[1;34m(clip_slot, track)\u001b[0m\n\u001b[0;32m     44\u001b[0m     \u001b[1;32mdef\u001b[0m \u001b[0mmake\u001b[0m\u001b[1;33m(\u001b[0m\u001b[0mclip_slot\u001b[0m\u001b[1;33m,\u001b[0m \u001b[0mtrack\u001b[0m\u001b[1;33m)\u001b[0m\u001b[1;33m:\u001b[0m\u001b[1;33m\u001b[0m\u001b[0m\n\u001b[0;32m     45\u001b[0m         \u001b[1;31m# type: (Live.ClipSlot.ClipSlot, SimpleTrack) -> ClipSlot\u001b[0m\u001b[1;33m\u001b[0m\u001b[1;33m\u001b[0m\u001b[0m\n\u001b[1;32m---> 46\u001b[1;33m         \u001b[1;32mreturn\u001b[0m \u001b[0mClipSlot\u001b[0m\u001b[1;33m(\u001b[0m\u001b[0mclip_slot\u001b[0m\u001b[1;33m=\u001b[0m\u001b[0mclip_slot\u001b[0m\u001b[1;33m,\u001b[0m \u001b[0mtrack\u001b[0m\u001b[1;33m=\u001b[0m\u001b[0mtrack\u001b[0m\u001b[1;33m)\u001b[0m\u001b[1;33m\u001b[0m\u001b[0m\n\u001b[0m\u001b[0;32m     47\u001b[0m \u001b[1;33m\u001b[0m\u001b[0m\n\u001b[0;32m     48\u001b[0m     \u001b[1;33m@\u001b[0m\u001b[0mp0_subject_slot\u001b[0m\u001b[1;33m(\u001b[0m\u001b[1;34m\"has_clip\"\u001b[0m\u001b[1;33m)\u001b[0m\u001b[1;33m\u001b[0m\u001b[0m\n",
      "\u001b[1;32mC:\\ProgramData\\Ableton\\Live 10 Suite\\Resources\\MIDI Remote Scripts\\protocol0\\lom\\clip_slot\\ClipSlot.pyc\u001b[0m in \u001b[0;36m__init__\u001b[1;34m(self, clip_slot, track, *a, **k)\u001b[0m\n\u001b[0;32m     23\u001b[0m         \u001b[0mself\u001b[0m\u001b[1;33m.\u001b[0m\u001b[0m_clip_slot\u001b[0m \u001b[1;33m=\u001b[0m \u001b[0mclip_slot\u001b[0m\u001b[1;33m\u001b[0m\u001b[0m\n\u001b[0;32m     24\u001b[0m         \u001b[0mself\u001b[0m\u001b[1;33m.\u001b[0m\u001b[0mtrack\u001b[0m \u001b[1;33m=\u001b[0m \u001b[0mtrack\u001b[0m\u001b[1;33m\u001b[0m\u001b[0m\n\u001b[1;32m---> 25\u001b[1;33m         \u001b[0mself\u001b[0m\u001b[1;33m.\u001b[0m\u001b[0m_has_clip_listener\u001b[0m\u001b[1;33m.\u001b[0m\u001b[0msubject\u001b[0m \u001b[1;33m=\u001b[0m \u001b[0mself\u001b[0m\u001b[1;33m.\u001b[0m\u001b[0m_clip_slot\u001b[0m\u001b[1;33m\u001b[0m\u001b[0m\n\u001b[0m\u001b[0;32m     26\u001b[0m         \u001b[0mself\u001b[0m\u001b[1;33m.\u001b[0m\u001b[0m_is_triggered_listener\u001b[0m\u001b[1;33m.\u001b[0m\u001b[0msubject\u001b[0m \u001b[1;33m=\u001b[0m \u001b[0mself\u001b[0m\u001b[1;33m.\u001b[0m\u001b[0m_clip_slot\u001b[0m\u001b[1;33m\u001b[0m\u001b[0m\n\u001b[0;32m     27\u001b[0m         \u001b[0mself\u001b[0m\u001b[1;33m.\u001b[0m\u001b[0mclip\u001b[0m \u001b[1;33m=\u001b[0m \u001b[0mNone\u001b[0m  \u001b[1;31m# type: Optional[Clip]\u001b[0m\u001b[1;33m\u001b[0m\u001b[0m\n",
      "\u001b[1;32mC:\\ProgramData\\Ableton\\Live 10 Suite\\Resources\\MIDI Remote Scripts\\_Framework\\SubjectSlot.pyc\u001b[0m in \u001b[0;36m_set_subject\u001b[1;34m(self, subject)\u001b[0m\n",
      "\u001b[1;32mC:\\ProgramData\\Ableton\\Live 10 Suite\\Resources\\MIDI Remote Scripts\\_Framework\\SubjectSlot.pyc\u001b[0m in \u001b[0;36m_check_subject_interface\u001b[1;34m(self, subject)\u001b[0m\n",
      "\u001b[1;31mSubjectSlotError\u001b[0m: Subject <object object at 0x04EF4BF0> missing \"add\" method for event: has_clip"
     ]
    }
   ],
   "source": [
    "from protocol0.lom.clip_slot.ClipSlot import ClipSlot\n",
    "\n",
    "cs = ClipSlot.make(object(), object())"
   ]
  }
 ],
 "metadata": {
  "kernelspec": {
   "display_name": "Python 2",
   "language": "python",
   "name": "python2"
  },
  "language_info": {
   "codemirror_mode": {
    "name": "ipython",
    "version": 2
   },
   "file_extension": ".py",
   "mimetype": "text/x-python",
   "name": "python",
   "nbconvert_exporter": "python",
   "pygments_lexer": "ipython2",
   "version": "2.7.18"
  }
 },
 "nbformat": 4,
 "nbformat_minor": 4
}
