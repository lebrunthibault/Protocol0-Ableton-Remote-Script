{
 "cells": [
  {
   "cell_type": "code",
   "execution_count": 1,
   "metadata": {},
   "outputs": [
    {
     "name": "stdout",
     "output_type": "stream",
     "text": [
      "True\n",
      "None\n"
     ]
    }
   ],
   "source": [
    "res = {\n",
    "    \"class_instance\": None\n",
    "}\n",
    "\n",
    "def class_decorator(cls):\n",
    "   for name, method in cls.__dict__.iteritems():\n",
    "        if hasattr(method, \"use_class\"):\n",
    "            # do something with the method and class\n",
    "            res[\"class_instance\"] = cls\n",
    "#             print(name, cls)\n",
    "   return cls\n",
    "\n",
    "def method_decorator(view):\n",
    "    # mark the method as something that requires view's class\n",
    "    view.use_class = True\n",
    "    return view\n",
    "\n",
    "@class_decorator\n",
    "class ModelA(object):\n",
    "    @method_decorator\n",
    "    def a_method(self):\n",
    "        # do some stuff\n",
    "        print(\"a_method\")\n",
    "        pass\n",
    "    \n",
    "obj = ModelA()\n",
    "print(res[\"class_instance\"] == obj.__class__)\n",
    "from pydoc import locate\n",
    "a = locate(\"toto\")\n",
    "print(a)"
   ]
  },
  {
   "cell_type": "code",
   "execution_count": 3,
   "metadata": {},
   "outputs": [
    {
     "name": "stdout",
     "output_type": "stream",
     "text": [
      "OrderedDict([('toto', 2), ('a', 0)])\n",
      "['toto', 'a']\n",
      "[2, 0]\n"
     ]
    }
   ],
   "source": [
    "import collections\n",
    "\n",
    "tracks = collections.OrderedDict()\n",
    "\n",
    "tracks[\"toto\"] = 2\n",
    "tracks[\"a\"] = 0\n",
    "\n",
    "print(tracks)\n",
    "print(tracks.keys())\n",
    "print(tracks.values())"
   ]
  }
 ],
 "metadata": {
  "kernelspec": {
   "display_name": "Python 2",
   "language": "python",
   "name": "python2"
  },
  "language_info": {
   "codemirror_mode": {
    "name": "ipython",
    "version": 2
   },
   "file_extension": ".py",
   "mimetype": "text/x-python",
   "name": "python",
   "nbconvert_exporter": "python",
   "pygments_lexer": "ipython2",
   "version": "2.7.18"
  }
 },
 "nbformat": 4,
 "nbformat_minor": 4
}
