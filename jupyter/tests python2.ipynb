{
 "cells": [
  {
   "cell_type": "code",
   "execution_count": null,
   "metadata": {},
   "outputs": [],
   "source": [
    "res = {\n",
    "    \"class_instance\": None\n",
    "}\n",
    "\n",
    "def class_decorator(cls):\n",
    "   for name, method in cls.__dict__.iteritems():\n",
    "        if hasattr(method, \"use_class\"):\n",
    "            # do something with the method and class\n",
    "            res[\"class_instance\"] = cls\n",
    "#             print(name, cls)\n",
    "   return cls\n",
    "\n",
    "def method_decorator(view):\n",
    "    # mark the method as something that requires view's class\n",
    "    view.use_class = True\n",
    "    return view\n",
    "\n",
    "@class_decorator\n",
    "class ModelA(object):\n",
    "    @method_decorator\n",
    "    def a_method(self):\n",
    "        # do some stuff\n",
    "        print(\"a_method\")\n",
    "        pass\n",
    "    \n",
    "obj = ModelA()\n",
    "print(res[\"class_instance\"] == obj.__class__)"
   ]
  },
  {
   "cell_type": "code",
   "execution_count": 3,
   "metadata": {},
   "outputs": [
    {
     "name": "stdout",
     "output_type": "stream",
     "text": [
      "toto\n"
     ]
    }
   ],
   "source": [
    "class Test():\n",
    "    NAME = \"toto\"\n",
    "    \n",
    "t = Test()\n",
    "t_class = t.__class__\n",
    "\n",
    "print(t_class.NAME)"
   ]
  },
  {
   "cell_type": "code",
   "execution_count": 2,
   "metadata": {},
   "outputs": [
    {
     "name": "stdout",
     "output_type": "stream",
     "text": [
      "[-2, -1, 1, 2]\n"
     ]
    }
   ],
   "source": [
    "bar_lengths = []\n",
    "length = 4\n",
    "power = 0\n",
    "while pow(2, power) <= length / 2:\n",
    "    bar_lengths += [pow(2, power), -pow(2, power)]\n",
    "    power += 1\n",
    "bar_lengths.sort()\n",
    "print(bar_lengths)"
   ]
  }
 ],
 "metadata": {
  "kernelspec": {
   "display_name": "Python 2",
   "language": "python",
   "name": "python2"
  },
  "language_info": {
   "codemirror_mode": {
    "name": "ipython",
    "version": 2
   },
   "file_extension": ".py",
   "mimetype": "text/x-python",
   "name": "python",
   "nbconvert_exporter": "python",
   "pygments_lexer": "ipython2",
   "version": "2.7.18"
  }
 },
 "nbformat": 4,
 "nbformat_minor": 4
}
