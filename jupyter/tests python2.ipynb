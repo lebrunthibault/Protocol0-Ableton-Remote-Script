{
 "cells": [
  {
   "cell_type": "code",
   "execution_count": 3,
   "metadata": {},
   "outputs": [
    {
     "name": "stdout",
     "output_type": "stream",
     "text": [
      "Sending 'Hello, World'...\n",
      "Sent\n",
      "Receiving...\n",
      "Received 'Message text was: Hello, World'\n"
     ]
    }
   ],
   "source": [
    "from websocket import create_connection\n",
    "\n",
    "ws = create_connection(\"ws://localhost:8000/ws\")\n",
    "print \"Sending 'Hello, World'...\"\n",
    "ws.send(\"Hello, World\")\n",
    "print \"Sent\"\n",
    "print \"Receiving...\"\n",
    "result = ws.recv()\n",
    "print \"Received '%s'\" % result\n",
    "ws.close()"
   ]
  }
 ],
 "metadata": {
  "kernelspec": {
   "display_name": "Python 2",
   "language": "python",
   "name": "python2"
  },
  "language_info": {
   "codemirror_mode": {
    "name": "ipython",
    "version": 2
   },
   "file_extension": ".py",
   "mimetype": "text/x-python",
   "name": "python",
   "nbconvert_exporter": "python",
   "pygments_lexer": "ipython2",
   "version": "2.7.18"
  }
 },
 "nbformat": 4,
 "nbformat_minor": 2
}
