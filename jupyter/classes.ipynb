{
 "cells": [
  {
   "cell_type": "code",
   "execution_count": 8,
   "metadata": {},
   "outputs": [
    {
     "ename": "SyntaxError",
     "evalue": "invalid syntax (<ipython-input-8-4b2f3ead4aee>, line 31)",
     "output_type": "error",
     "traceback": [
      "\u001b[1;36m  File \u001b[1;32m\"<ipython-input-8-4b2f3ead4aee>\"\u001b[1;36m, line \u001b[1;32m31\u001b[0m\n\u001b[1;33m    print(**k)\u001b[0m\n\u001b[1;37m           ^\u001b[0m\n\u001b[1;31mSyntaxError\u001b[0m\u001b[1;31m:\u001b[0m invalid syntax\n"
     ]
    }
   ],
   "source": [
    "class Parent(object):\n",
    "    def __init__(self):\n",
    "        print(\"init parent 1\")\n",
    "        super(Parent, self).__init__()\n",
    "        self.obj = Obj()\n",
    "        print(\"end init parent 1\")\n",
    "\n",
    "    def print_name(self):\n",
    "        print(\"parent 1 !\")\n",
    "        \n",
    "    def hello(self):\n",
    "        raise NotImplementedError()\n",
    "        \n",
    "class Parent2(object):\n",
    "    def __init__(self):\n",
    "        print(\"init parnet 2\")\n",
    "        super(Parent2, self).__init__()\n",
    "        self.obj = Obj()\n",
    "        self.print_name = self.print_name\n",
    "        print(\"end init parent 2\")\n",
    "\n",
    "    def print_name(self):\n",
    "        print(\"parent 2 !\")\n",
    "        \n",
    "    def hello(self):\n",
    "        raise NotImplementedError()\n",
    "        \n",
    "    def print_locals(self, toto, titi=2):\n",
    "        k = locals()\n",
    "        del k[\"self\"]\n",
    "        print(**k)\n",
    "\n",
    "class Child(Parent, Parent2):\n",
    "    def __init__(self):\n",
    "        super(Child, self).__init__()\n",
    "    pass\n",
    "\n",
    "class Obj(object):\n",
    "    def __init__(self):\n",
    "        self.val = 42\n",
    "\n",
    "child = Child()\n",
    "child.print_locals(2)\n"
   ]
  },
  {
   "cell_type": "code",
   "execution_count": 10,
   "metadata": {},
   "outputs": [
    {
     "data": {
      "text/plain": [
       "False"
      ]
     },
     "execution_count": 10,
     "metadata": {},
     "output_type": "execute_result"
    }
   ],
   "source": [
    "a = {\"toto\": 2}\n",
    "a.has_key(\"toto\")\n",
    "2 in a"
   ]
  }
 ],
 "metadata": {
  "kernelspec": {
   "display_name": "Python 2",
   "language": "python",
   "name": "python2"
  },
  "language_info": {
   "codemirror_mode": {
    "name": "ipython",
    "version": 2
   },
   "file_extension": ".py",
   "mimetype": "text/x-python",
   "name": "python",
   "nbconvert_exporter": "python",
   "pygments_lexer": "ipython2",
   "version": "2.7.18"
  }
 },
 "nbformat": 4,
 "nbformat_minor": 2
}
