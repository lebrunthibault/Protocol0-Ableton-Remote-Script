{
 "cells": [
  {
   "cell_type": "code",
   "execution_count": 29,
   "metadata": {},
   "outputs": [
    {
     "name": "stdout",
     "output_type": "stream",
     "text": [
      "port open : P0_OUT 5\n",
      "Sending string to midi output : sysex from jupyter on P0_OUT\n",
      "sysex data=(115,121,115,101,120,32,102,114,111,109,32,106,117,112,121,116,101,114,32,111,110,32,80,48,95,79,85,84) time=0\n",
      "sent: sysex data=(115,121,115,101,120,32,102,114,111,109,32,106,117,112,121,116,101,114,32,111,110,32,80,48,95,79,85,84) time=0\n"
     ]
    }
   ],
   "source": [
    "import mido\n",
    "\n",
    "OUTPUT_PORT_NAME = 'P0_OUT'\n",
    "# OUTPUT_PORT_NAME = 'Faderfox EC4'\n",
    "\n",
    "def get_message_from_string(message):\n",
    "    # type: (str) -> None\n",
    "    print(\"Sending string to midi output : %s\" % message)\n",
    "    b = bytearray(message.encode())\n",
    "    b.insert(0, 0xF0)\n",
    "    b.append(0xF7)\n",
    "    return mido.Message.from_bytes(b)\n",
    "    return tuple(b)\n",
    "\n",
    "p0_outport_name = None\n",
    "for outport_name in mido.get_output_names():\n",
    "    if OUTPUT_PORT_NAME in outport_name:\n",
    "        p0_outport_name = outport_name\n",
    "        break\n",
    "        \n",
    "if p0_outport_name is None:\n",
    "    raise Exception(f\"couldn't find {OUTPUT_PORT_NAME} port\")\n",
    "    \n",
    "with mido.open_output(p0_outport_name, autoreset=False) as outport:\n",
    "    print(f\"port open : {p0_outport_name}\")\n",
    "    msg = get_message_from_string(f\"sysex from jupyter on {OUTPUT_PORT_NAME}\")\n",
    "    print(msg)\n",
    "    outport.send(msg)\n",
    "    print(f\"sent: {msg}\")\n"
   ]
  }
 ],
 "metadata": {
  "kernelspec": {
   "display_name": "Python 3",
   "language": "python",
   "name": "python3"
  },
  "language_info": {
   "codemirror_mode": {
    "name": "ipython",
    "version": 3
   },
   "file_extension": ".py",
   "mimetype": "text/x-python",
   "name": "python",
   "nbconvert_exporter": "python",
   "pygments_lexer": "ipython3",
   "version": "3.7.3"
  }
 },
 "nbformat": 4,
 "nbformat_minor": 2
}
