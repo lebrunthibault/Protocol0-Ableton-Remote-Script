{
 "cells": [
  {
   "cell_type": "code",
   "execution_count": 1,
   "metadata": {},
   "outputs": [],
   "source": [
    "import win32gui\n",
    "def window_enum_handler(hwnd, resultList):\n",
    "    if win32gui.IsWindowVisible(hwnd) and win32gui.GetWindowText(hwnd) != '':\n",
    "        resultList.append((hwnd, win32gui.GetWindowText(hwnd)))\n",
    "\n",
    "def get_app_list():\n",
    "    handles=[]\n",
    "    win32gui.EnumWindows(window_enum_handler, handles)\n",
    "    return handles\n",
    "\n",
    "appwindows = get_app_list()\n",
    "for app in appwindows:\n",
    "    if \"Midi Remote Scripts\" in app[1]:\n",
    "        win32gui.SetForegroundWindow(app[0])\n",
    "\n",
    "# import sys\n",
    "\n",
    "# import win32gui\n",
    "\n",
    "# win32gui.SetForegroundWindow(2754956)\n",
    "# win32gui.SetForegroundWindow(win32gui.FindWindow(\"2754956\", None))\n"
   ]
  },
  {
   "cell_type": "code",
   "execution_count": 3,
   "metadata": {},
   "outputs": [],
   "source": [
    "import collections\n",
    "\n",
    "\n",
    "live_track_to_simple_track = collections.OrderedDict()  # type: Dict[Live.Track.Track, SimpleTrack]\n",
    "\n",
    "\n",
    "for live_track, simple_track in live_track_to_simple_track.items():\n",
    "    print(simple_track)\n"
   ]
  }
 ],
 "metadata": {
  "kernelspec": {
   "display_name": "Python 2",
   "language": "python",
   "name": "python2"
  },
  "language_info": {
   "codemirror_mode": {
    "name": "ipython",
    "version": 2
   },
   "file_extension": ".py",
   "mimetype": "text/x-python",
   "name": "python",
   "nbconvert_exporter": "python",
   "pygments_lexer": "ipython2",
   "version": "2.7.18"
  }
 },
 "nbformat": 4,
 "nbformat_minor": 2
}
