{
 "cells": [
  {
   "cell_type": "code",
   "execution_count": 1,
   "metadata": {},
   "outputs": [],
   "source": [
    "import win32gui\n",
    "def window_enum_handler(hwnd, resultList):\n",
    "    if win32gui.IsWindowVisible(hwnd) and win32gui.GetWindowText(hwnd) != '':\n",
    "        resultList.append((hwnd, win32gui.GetWindowText(hwnd)))\n",
    "\n",
    "def get_app_list():\n",
    "    handles=[]\n",
    "    win32gui.EnumWindows(window_enum_handler, handles)\n",
    "    return handles\n",
    "\n",
    "appwindows = get_app_list()\n",
    "for app in appwindows:\n",
    "    if \"Midi Remote Scripts\" in app[1]:\n",
    "        win32gui.SetForegroundWindow(app[0])\n",
    "\n",
    "# import sys\n",
    "\n",
    "# import win32gui\n",
    "\n",
    "# win32gui.SetForegroundWindow(2754956)\n",
    "# win32gui.SetForegroundWindow(win32gui.FindWindow(\"2754956\", None))\n"
   ]
  },
  {
   "cell_type": "code",
   "execution_count": 3,
   "metadata": {},
   "outputs": [
    {
     "ename": "TypeError",
     "evalue": "int() argument must be a string or a number, not 'ColorEnum'",
     "output_type": "error",
     "traceback": [
      "\u001b[1;31m---------------------------------------------------------------------------\u001b[0m",
      "\u001b[1;31mTypeError\u001b[0m                                 Traceback (most recent call last)",
      "\u001b[1;32m<ipython-input-3-06622af1994e>\u001b[0m in \u001b[0;36m<module>\u001b[1;34m()\u001b[0m\n\u001b[0;32m      1\u001b[0m \u001b[1;32mfrom\u001b[0m \u001b[0ma_protocol_0\u001b[0m\u001b[1;33m.\u001b[0m\u001b[0menums\u001b[0m\u001b[1;33m.\u001b[0m\u001b[0mColorEnum\u001b[0m \u001b[1;32mimport\u001b[0m \u001b[0mColorEnum\u001b[0m\u001b[1;33m\u001b[0m\u001b[0m\n\u001b[0;32m      2\u001b[0m \u001b[1;33m\u001b[0m\u001b[0m\n\u001b[1;32m----> 3\u001b[1;33m \u001b[0mint\u001b[0m\u001b[1;33m(\u001b[0m\u001b[0mColorEnum\u001b[0m\u001b[1;33m.\u001b[0m\u001b[0mARM\u001b[0m\u001b[1;33m)\u001b[0m\u001b[1;33m\u001b[0m\u001b[0m\n\u001b[0m",
      "\u001b[1;31mTypeError\u001b[0m: int() argument must be a string or a number, not 'ColorEnum'"
     ]
    }
   ],
   "source": [
    "from a_protocol_0.enums.ColorEnum import ColorEnum\n",
    "\n",
    "ColorEnum.ARM"
   ]
  }
 ],
 "metadata": {
  "kernelspec": {
   "display_name": "Python 2",
   "language": "python",
   "name": "python2"
  },
  "language_info": {
   "codemirror_mode": {
    "name": "ipython",
    "version": 2
   },
   "file_extension": ".py",
   "mimetype": "text/x-python",
   "name": "python",
   "nbconvert_exporter": "python",
   "pygments_lexer": "ipython2",
   "version": "2.7.18"
  }
 },
 "nbformat": 4,
 "nbformat_minor": 2
}
