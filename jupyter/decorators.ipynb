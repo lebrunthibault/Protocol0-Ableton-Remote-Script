{
 "cells": [
  {
   "cell_type": "code",
   "execution_count": 2,
   "metadata": {},
   "outputs": [
    {
     "name": "stdout",
     "output_type": "stream",
     "text": [
      "True\n",
      "exec example\n",
      "callback 1\n",
      "callback 2\n",
      "callback 3\n"
     ]
    }
   ],
   "source": [
    "from a_protocol_0.utils.decorators import has_callback_queue, retry\n",
    "from __future__ import print_function\n",
    "from a_protocol_0.utils.utils import _has_callback_queue\n",
    "\n",
    "\n",
    "class Example:\n",
    "    @has_callback_queue\n",
    "    def example(self):\n",
    "        print(\"exec example\")\n",
    "   \n",
    "e = Example()\n",
    "\n",
    "e.example._callbacks.append(lambda: print(\"callback 1\"))\n",
    "e.example._callbacks.append(lambda: print(\"callback 2\"))\n",
    "e.example._callbacks.append(lambda: print(\"callback 3\"))\n",
    "\n",
    "print(_has_callback_queue(e.example))\n",
    "e.example()"
   ]
  }
 ],
 "metadata": {
  "kernelspec": {
   "display_name": "Python 2",
   "language": "python",
   "name": "python2"
  },
  "language_info": {
   "codemirror_mode": {
    "name": "ipython",
    "version": 2
   },
   "file_extension": ".py",
   "mimetype": "text/x-python",
   "name": "python",
   "nbconvert_exporter": "python",
   "pygments_lexer": "ipython2",
   "version": "2.7.18"
  }
 },
 "nbformat": 4,
 "nbformat_minor": 2
}
