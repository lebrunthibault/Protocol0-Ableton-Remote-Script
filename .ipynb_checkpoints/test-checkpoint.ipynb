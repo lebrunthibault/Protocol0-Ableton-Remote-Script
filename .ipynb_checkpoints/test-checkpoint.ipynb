{
 "cells": [
  {
   "cell_type": "code",
   "execution_count": 1,
   "metadata": {},
   "outputs": [
    {
     "ename": "AttributeError",
     "evalue": "'NoneType' object has no attribute 'log_debug'",
     "output_type": "error",
     "traceback": [
      "\u001b[1;31m---------------------------------------------------------------------------\u001b[0m",
      "\u001b[1;31mAttributeError\u001b[0m                            Traceback (most recent call last)",
      "\u001b[1;32m<ipython-input-1-9861890c1cd2>\u001b[0m in \u001b[0;36m<module>\u001b[1;34m()\u001b[0m\n\u001b[0;32m      9\u001b[0m \u001b[0mt\u001b[0m \u001b[1;33m=\u001b[0m \u001b[0mTest\u001b[0m\u001b[1;33m(\u001b[0m\u001b[1;33m)\u001b[0m\u001b[1;33m\u001b[0m\u001b[0m\n\u001b[0;32m     10\u001b[0m \u001b[1;33m\u001b[0m\u001b[0m\n\u001b[1;32m---> 11\u001b[1;33m \u001b[0mt\u001b[0m\u001b[1;33m.\u001b[0m\u001b[0mtest_log\u001b[0m\u001b[1;33m(\u001b[0m\u001b[1;34m\"toto\"\u001b[0m\u001b[1;33m,\u001b[0m \u001b[1;34m\"titi\"\u001b[0m\u001b[1;33m,\u001b[0m \u001b[0mc\u001b[0m\u001b[1;33m=\u001b[0m\u001b[1;34m\"42\"\u001b[0m\u001b[1;33m)\u001b[0m\u001b[1;33m\u001b[0m\u001b[0m\n\u001b[0m",
      "\u001b[1;32mC:\\ProgramData\\Ableton\\Live 10 Suite\\Resources\\MIDI Remote Scripts\\a_protocol_0\\utils\\decorators.pyc\u001b[0m in \u001b[0;36mdecorate\u001b[1;34m(*a, **k)\u001b[0m\n\u001b[0;32m    245\u001b[0m \u001b[1;33m\u001b[0m\u001b[0m\n\u001b[0;32m    246\u001b[0m         \u001b[1;32mfrom\u001b[0m \u001b[0ma_protocol_0\u001b[0m \u001b[1;32mimport\u001b[0m \u001b[0mProtocol0\u001b[0m\u001b[1;33m\u001b[0m\u001b[0m\n\u001b[1;32m--> 247\u001b[1;33m         \u001b[0mProtocol0\u001b[0m\u001b[1;33m.\u001b[0m\u001b[0mSELF\u001b[0m\u001b[1;33m.\u001b[0m\u001b[0mlog_debug\u001b[0m\u001b[1;33m(\u001b[0m\u001b[0mmessage\u001b[0m\u001b[1;33m,\u001b[0m \u001b[0mdebug\u001b[0m\u001b[1;33m=\u001b[0m\u001b[0mFalse\u001b[0m\u001b[1;33m)\u001b[0m\u001b[1;33m\u001b[0m\u001b[0m\n\u001b[0m\u001b[0;32m    248\u001b[0m         \u001b[0mfunc\u001b[0m\u001b[1;33m(\u001b[0m\u001b[1;33m*\u001b[0m\u001b[0ma\u001b[0m\u001b[1;33m,\u001b[0m \u001b[1;33m**\u001b[0m\u001b[0mk\u001b[0m\u001b[1;33m)\u001b[0m\u001b[1;33m\u001b[0m\u001b[0m\n\u001b[0;32m    249\u001b[0m \u001b[1;33m\u001b[0m\u001b[0m\n",
      "\u001b[1;31mAttributeError\u001b[0m: 'NoneType' object has no attribute 'log_debug'"
     ]
    }
   ],
   "source": [
    "from a_protocol_0.utils.decorators import log\n",
    "\n",
    "class Test():\n",
    "    \n",
    "    @log\n",
    "    def test_log(self, a, b, c=2, d=None):\n",
    "        print(\"exec test_log\")\n",
    "        \n",
    "t = Test()\n",
    "\n",
    "t.test_log(\"toto\", \"titi\", c=\"42\")"
   ]
  },
  {
   "cell_type": "code",
   "execution_count": null,
   "metadata": {},
   "outputs": [],
   "source": [
    "import time\n",
    "\n",
    "start_at = time.time()\n",
    "time.sleep(1.2323)\n",
    "end_at = time.time()\n",
    "\n",
    "print(\"%.3f\" % (start_at - end_at))"
   ]
  },
  {
   "cell_type": "code",
   "execution_count": null,
   "metadata": {},
   "outputs": [],
   "source": [
    "import traceback\n",
    "\n",
    "try:\n",
    "    raise RuntimeError(\"hello\")\n",
    "except (Exception, RuntimeError):\n",
    "    print(traceback.format_exc().splitlines())\n"
   ]
  },
  {
   "cell_type": "code",
   "execution_count": null,
   "metadata": {},
   "outputs": [],
   "source": [
    "   # in protocol0 __init__\n",
    "    # self.start = time.time()\n",
    "        #\n",
    "        # def _tick():\n",
    "        #     self.log_info(\"_tick call in %.3f\" % (time.time() - self.start))\n",
    "        #     self.start = time.time()\n",
    "\n",
    "        # _scheduler = Live.Base.Timer(callback=_tick, interval=1, repeat=True)\n",
    "        # # _scheduler.start()\n",
    "        # self.log_debug(self._tasks)\n",
    "        # # self._tasks.add(\n",
    "        # #     sequence(wait(0.3), run(_scheduler.restart))).kill()\n",
    "        # for i in range(20):\n",
    "        #     self._tasks.add(\n",
    "        #         sequence(wait(i / 10), run(_tick)))\n",
    "        # self.log_debug(\"scheduler started\")"
   ]
  },
  {
   "cell_type": "code",
   "execution_count": null,
   "metadata": {},
   "outputs": [],
   "source": [
    "\"toto\".splitlines()"
   ]
  },
  {
   "cell_type": "code",
   "execution_count": null,
   "metadata": {},
   "outputs": [],
   "source": [
    "\"%s terminated in %.3fs\" % (\"toto\", 2.3232)"
   ]
  },
  {
   "cell_type": "code",
   "execution_count": null,
   "metadata": {},
   "outputs": [],
   "source": [
    "from functools import partial\n",
    "from collections import deque, Iterable\n",
    "\n",
    "\n",
    "class Toto():\n",
    "    pass\n",
    "\n",
    "t = Toto()\n",
    "t.titi = 2\n",
    "\n",
    "setattr(t, \"titi\", 3)\n",
    "\n",
    "f = partial(setattr, t, \"titi\", 4)\n",
    "f()\n",
    "\n",
    "print(t.titi)\n",
    "\n",
    "\n",
    "\n",
    "isinstance(lambda: True, Iterable)"
   ]
  },
  {
   "cell_type": "code",
   "execution_count": null,
   "metadata": {},
   "outputs": [],
   "source": [
    "from collections import deque, Iterable\n",
    "steps = deque([1, 2, 3])\n",
    "steps[-1]\n",
    "\n",
    "print(0 or 0)"
   ]
  },
  {
   "cell_type": "code",
   "execution_count": null,
   "metadata": {},
   "outputs": [],
   "source": [
    "from functools import partial\n",
    "from a_protocol_0.sequence.Sequence import Sequence\n",
    "from __future__ import print_function\n",
    "\n",
    "from a_protocol_0 import Protocol0, EmptyModule\n",
    "p0 = Protocol0(EmptyModule(is_false=False), init_song=False)\n",
    "\n",
    "def seq_creator(i):\n",
    "    if i == 0:\n",
    "        return None\n",
    "    return Sequence().add(partial(seq_creator, i - 1), name=\"seq %s\" % i).done()\n",
    "\n",
    "def check_function(res):\n",
    "    print(\"check and return %s\" % res)\n",
    "    return res\n",
    "\n",
    "def check_seq(res):\n",
    "    seq = Sequence(name=\"check seq\")\n",
    "    seq.add(partial(check_function, res))\n",
    "    return seq.done()\n",
    "\n",
    "def inner_print_seq(message):\n",
    "    seq = Sequence(name=\"inner print seq\")\n",
    "    seq.add(lambda: print(message))\n",
    "    return seq.done()\n",
    "\n",
    "def print_seq(message):\n",
    "    seq = Sequence(name=\"print seq\")\n",
    "    seq.add(partial(inner_print_seq, message))\n",
    "    return seq.done()\n",
    "\n",
    "with p0.component_guard():\n",
    "#     seq = Sequence(name=\"test seq\")\n",
    "#     seq.add(partial(seq_creator, 2))\n",
    "#     seq.done()()\n",
    "#     check_seq(True)()\n",
    "#     print(\"------\")\n",
    "    \n",
    "#     seq = Sequence(name=\"main\").add(partial(print_seq, \"titi messaged\"), do_if=partial(check_seq, True))\n",
    "#     seq.done()()\n",
    "\n",
    "    seq = p0.protocol0_song.select_track(EmptyModule(), sync=True)\n",
    "    print(seq._auto_start)\n",
    "    \n",
    "# p0.actionManager.action_scroll_tracks(go_next=True)\n",
    "\n"
   ]
  },
  {
   "cell_type": "code",
   "execution_count": null,
   "metadata": {},
   "outputs": [],
   "source": [
    "arr = []\n",
    "any(i for i in ([1] + arr) > 2)"
   ]
  },
  {
   "cell_type": "code",
   "execution_count": null,
   "metadata": {},
   "outputs": [],
   "source": [
    "from a_protocol_0.lom.Note import Note\n",
    "from a_protocol_0 import Protocol0, EmptyModule\n",
    "import copy\n",
    "\n",
    "note = Note(pitch=20, duration=2, start=0, velocity=127, muted=True, clip=EmptyModule())\n",
    "\n",
    "note2 = copy.copy(note)\n",
    "print(note)\n",
    "note2._pitch = 0\n",
    "print(note2)"
   ]
  },
  {
   "cell_type": "code",
   "execution_count": null,
   "metadata": {},
   "outputs": [],
   "source": [
    "def double(L):\n",
    "    for x in L:\n",
    "        yield x*2\n",
    "        \n",
    "g = double(range(0, 5))\n",
    "print(g)\n",
    "print(list(g))"
   ]
  },
  {
   "cell_type": "code",
   "execution_count": 2,
   "metadata": {},
   "outputs": [
    {
     "name": "stdout",
     "output_type": "stream",
     "text": [
      "[{start:0, duration:0.5, pitch:100, vel:100}]\n"
     ]
    }
   ],
   "source": [
    "from copy import copy\n",
    "from a_protocol_0.lom.Note import Note\n",
    "from __future__ import print_function\n",
    "from fractions import Fraction\n",
    "from _Framework.Util import find_if\n",
    "\n",
    "\n",
    "\n",
    "class Auto:\n",
    "    def __init__(self, *a, **k):\n",
    "        self.ramping_steps = 7\n",
    "        self.ramping_duration = 0.25  # eighth note\n",
    "        \n",
    "\n",
    "    def _ramp_two_notes(self, note, next_note):\n",
    "        # type: (Note, Note) -> List[Note]\n",
    "        \"\"\"\n",
    "            2 cases : when the note is long and ramping happens at the end\n",
    "            or when the note is short and the ramping takes the whole note duration\n",
    "        \"\"\"\n",
    "        if note.velocity <= next_note.velocity:\n",
    "            yield note\n",
    "            return\n",
    "\n",
    "        above_ramping_duration = note.duration > self.ramping_duration * (1 + Fraction(1, self.ramping_steps))\n",
    "        print(above_ramping_duration)\n",
    "        if above_ramping_duration:\n",
    "            ramping_steps = self.ramping_steps - 1\n",
    "            start_coeff = 1 - Fraction(1, self.ramping_steps)\n",
    "            ramp_start = note.start + note.duration - self.ramping_duration * start_coeff\n",
    "            velocity_start = note.velocity * start_coeff\n",
    "            base_duration = self.ramping_duration * start_coeff\n",
    "\n",
    "            first_note = copy(note)\n",
    "            first_note.duration = note.duration - self.ramping_duration + self.ramping_duration / self.ramping_steps\n",
    "            yield first_note\n",
    "        else:\n",
    "            ramping_steps = self.ramping_steps\n",
    "            ramp_start = note.start\n",
    "            velocity_start = note.velocity\n",
    "            base_duration = note.duration\n",
    "\n",
    "        for i in range(0, ramping_steps):\n",
    "            coeff = float(i) / ramping_steps\n",
    "            ramp_note = copy(note)\n",
    "            ramp_note.start = ramp_start + (base_duration * coeff)\n",
    "            ramp_note.duration = base_duration / ramping_steps\n",
    "            ramp_note.velocity = round(velocity_start - (velocity_start - next_note.velocity) * coeff)\n",
    "            yield ramp_note\n",
    "            \n",
    "        print(ramping_steps, ramp_start, base_duration)\n",
    "        \n",
    "    def _consolidate_notes(self, notes, clip_length):\n",
    "        # type: (List[Note], float) -> List[Note]\n",
    "        # notes_by_start = {}\n",
    "        # for note in notes:\n",
    "        #     if not notes_by_start.has_key(note.start):\n",
    "        #         notes_by_start[note.start] = note\n",
    "        #     else:\n",
    "        #         notes_by_start[note.start] = max([notes_by_start[note.start], note], key=lambda n: n.duration)\n",
    "        #\n",
    "        # single_notes = notes_by_start.values()\n",
    "\n",
    "        for i, next_note in enumerate(notes[1:] + [Note(start=clip_length)]):\n",
    "            current_note = notes[i]\n",
    "            current_note.duration = next_note.start - current_note.start\n",
    "\n",
    "        current_note = notes[0]\n",
    "        yield current_note\n",
    "        for next_note in notes[1:]:\n",
    "            if next_note.velocity == current_note.velocity:\n",
    "                current_note.duration += next_note.duration\n",
    "            else:\n",
    "                current_note = next_note\n",
    "                yield current_note\n",
    "                \n",
    "    def _insert_added_note(self, notes, added_note):\n",
    "        # type: (List[Note], Note) -> List[Note]\n",
    "        # we could use clip.start here\n",
    "        if notes[0].start != 0:\n",
    "            notes[0].duration += notes[0].start\n",
    "            notes[0].start = 0\n",
    "\n",
    "        i = 0\n",
    "        while i < len(notes):\n",
    "            note = notes[i]\n",
    "            if not note.includes_start(added_note):\n",
    "                yield note\n",
    "                i += 1\n",
    "                continue\n",
    "\n",
    "            if note.start != added_note.start:\n",
    "                truncated_note = copy(note)\n",
    "                truncated_note.end = added_note.start\n",
    "                yield truncated_note\n",
    "\n",
    "            while added_note.end >= note.end and i < len(notes) - 1:\n",
    "                i += 1\n",
    "                note = notes[i]\n",
    "            yield added_note\n",
    "            print(added_note.end, note.end, note.duration)\n",
    "            if added_note.end < note.end:\n",
    "                note.duration -= (added_note.end - note.start)\n",
    "                note.start = added_note.end\n",
    "                yield note\n",
    "                \n",
    "            i += 1\n",
    "            \n",
    "    def _remove_ramped_notes_start(self, notes):\n",
    "        # type: (List[Note]) -> List[Note]\n",
    "        \"\"\" clean ramped clip (remove un_quantized and duplicated on start notes) \"\"\"\n",
    "        notes_by_start = {}\n",
    "        for note in notes:\n",
    "            if not notes_by_start.has_key(note.start):\n",
    "                notes_by_start[note.start] = note\n",
    "            else:\n",
    "                notes_by_start[note.start] = max([notes_by_start[note.start], note], key=lambda n: n.duration)\n",
    "\n",
    "        return notes_by_start.values()\n",
    "\n",
    "            \n",
    "auto = Auto()\n",
    "Note.auto_sync_enabled = False\n",
    "\n",
    "\n",
    "# note_1 = Note(start=1.8, duration=0.2, pitch=100, velocity=100)\n",
    "# note_2 = Note(start=0, duration=1, pitch=0, velocity=0)\n",
    "# note_3 = Note(start=1, duration=1, pitch=0, velocity=0)\n",
    "# note_4 = Note(start=2, duration=1, pitch=100, velocity=100)\n",
    "note_4 = Note(start=0, duration=0.5, pitch=100, velocity=100)\n",
    "note_4_b = Note(start=0, duration=0.01, pitch=100, velocity=100)\n",
    "note_5 = Note(start=0.75, duration=0.5, pitch=80, velocity=80)\n",
    "added_note = Note(start=0, duration=1, pitch=20, velocity=20)\n",
    "\n",
    "print(list(auto._remove_ramped_notes_start([note_4, note_4_b])))\n"
   ]
  },
  {
   "cell_type": "code",
   "execution_count": 1,
   "metadata": {},
   "outputs": [
    {
     "name": "stdout",
     "output_type": "stream",
     "text": [
      "None\n"
     ]
    }
   ],
   "source": [
    "from _Framework.Util import find_if\n",
    "\n",
    "rack_name = \"toto\"\n",
    "res = find_if(lambda d: d.name == rack_name, [])\n",
    "\n",
    "print(res)"
   ]
  },
  {
   "cell_type": "code",
   "execution_count": 3,
   "metadata": {},
   "outputs": [
    {
     "ename": "AttributeError",
     "evalue": "'CallbackDescriptor' object has no attribute '_callbacks'",
     "output_type": "error",
     "traceback": [
      "\u001b[1;31m---------------------------------------------------------------------------\u001b[0m",
      "\u001b[1;31mAttributeError\u001b[0m                            Traceback (most recent call last)",
      "\u001b[1;32m<ipython-input-3-9e65d80107ee>\u001b[0m in \u001b[0;36m<module>\u001b[1;34m()\u001b[0m\n\u001b[0;32m      7\u001b[0m     \u001b[1;32mprint\u001b[0m\u001b[1;33m(\u001b[0m\u001b[1;34m\"exec example\"\u001b[0m\u001b[1;33m)\u001b[0m\u001b[1;33m\u001b[0m\u001b[0m\n\u001b[0;32m      8\u001b[0m \u001b[1;33m\u001b[0m\u001b[0m\n\u001b[1;32m----> 9\u001b[1;33m \u001b[0mexample\u001b[0m\u001b[1;33m.\u001b[0m\u001b[0m_callbacks\u001b[0m\u001b[1;33m.\u001b[0m\u001b[0mappend\u001b[0m\u001b[1;33m(\u001b[0m\u001b[1;32mlambda\u001b[0m\u001b[1;33m:\u001b[0m \u001b[1;32mprint\u001b[0m\u001b[1;33m(\u001b[0m\u001b[1;34m\"callback 1\"\u001b[0m\u001b[1;33m)\u001b[0m\u001b[1;33m)\u001b[0m\u001b[1;33m\u001b[0m\u001b[0m\n\u001b[0m",
      "\u001b[1;31mAttributeError\u001b[0m: 'CallbackDescriptor' object has no attribute '_callbacks'"
     ]
    }
   ],
   "source": [
    "from a_protocol_0.utils.decorators import subject_slot, has_callback_queue, retry\n",
    "from __future__ import print_function\n",
    "\n",
    "class Example:\n",
    "    @has_callback_queue\n",
    "    def example(self):\n",
    "        print(\"exec example\")\n",
    "   \n",
    "e = Example()\n",
    "example._callbacks.append(lambda: print(\"callback 1\"))"
   ]
  },
  {
   "cell_type": "code",
   "execution_count": null,
   "metadata": {},
   "outputs": [],
   "source": []
  }
 ],
 "metadata": {
  "kernelspec": {
   "display_name": "Python 2",
   "language": "python",
   "name": "python2"
  },
  "language_info": {
   "codemirror_mode": {
    "name": "ipython",
    "version": 2
   },
   "file_extension": ".py",
   "mimetype": "text/x-python",
   "name": "python",
   "nbconvert_exporter": "python",
   "pygments_lexer": "ipython2",
   "version": "2.7.18"
  }
 },
 "nbformat": 4,
 "nbformat_minor": 2
}
